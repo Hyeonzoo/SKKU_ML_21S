{
 "cells": [
  {
   "cell_type": "code",
   "execution_count": 1,
   "metadata": {
    "scrolled": true
   },
   "outputs": [
    {
     "name": "stdout",
     "output_type": "stream",
     "text": [
      "INFO:tensorflow:Enabling eager execution\n",
      "INFO:tensorflow:Enabling v2 tensorshape\n",
      "INFO:tensorflow:Enabling resource variables\n",
      "INFO:tensorflow:Enabling tensor equality\n",
      "INFO:tensorflow:Enabling control flow v2\n"
     ]
    }
   ],
   "source": [
    "from sklearn.datasets import make_regression\n",
    "import numpy as np\n",
    "import matplotlib.pyplot as plt\n",
    "\n",
    "import tensorflow as tf\n",
    "from tensorflow import keras"
   ]
  },
  {
   "cell_type": "markdown",
   "metadata": {},
   "source": [
    "### Data preparation"
   ]
  },
  {
   "cell_type": "code",
   "execution_count": 2,
   "metadata": {},
   "outputs": [
    {
     "name": "stdout",
     "output_type": "stream",
     "text": [
      "(100, 1)\n",
      "(100, 1)\n"
     ]
    }
   ],
   "source": [
    "X, y = make_regression(n_samples=100, n_features=1, bias=10.0, noise=10.0, random_state=2)\n",
    "y = np.expand_dims(y, axis=1)\n",
    "\n",
    "print(X.shape)\n",
    "print(y.shape)"
   ]
  },
  {
   "cell_type": "code",
   "execution_count": 3,
   "metadata": {},
   "outputs": [
    {
     "data": {
      "image/png": "[encoded data removed]",
      "text/plain": [
       "<Figure size 432x288 with 1 Axes>"
      ]
     },
     "metadata": {
      "needs_background": "light"
     },
     "output_type": "display_data"
    }
   ],
   "source": [
    "plt.scatter(X, y)\n",
    "plt.title('Generated data')\n",
    "plt.show()"
   ]
  },
  {
   "cell_type": "markdown",
   "metadata": {},
   "source": [
    "### Data split"
   ]
  },
  {
   "cell_type": "code",
   "execution_count": 4,
   "metadata": {},
   "outputs": [],
   "source": [
    "train_x = X[:80]\n",
    "test_x = X[80:]\n",
    "\n",
    "train_y = y[:80]\n",
    "test_y = y[80:]"
   ]
  },
  {
   "cell_type": "code",
   "execution_count": 5,
   "metadata": {},
   "outputs": [
    {
     "data": {
      "text/plain": [
       "(80, 1)"
      ]
     },
     "execution_count": 5,
     "metadata": {},
     "output_type": "execute_result"
    }
   ],
   "source": [
    "train_x.shape"
   ]
  },
  {
   "cell_type": "code",
   "execution_count": 6,
   "metadata": {},
   "outputs": [
    {
     "data": {
      "text/plain": [
       "(20, 1)"
      ]
     },
     "execution_count": 6,
     "metadata": {},
     "output_type": "execute_result"
    }
   ],
   "source": [
    "test_x.shape"
   ]
  },
  {
   "cell_type": "markdown",
   "metadata": {},
   "source": [
    "### Defining model"
   ]
  },
  {
   "cell_type": "code",
   "execution_count": 7,
   "metadata": {},
   "outputs": [],
   "source": [
    "model = tf.keras.Sequential()\n",
    "model.add(tf.keras.layers.Dense(1, activation='linear', input_shape=(1,)))"
   ]
  },
  {
   "cell_type": "code",
   "execution_count": 8,
   "metadata": {},
   "outputs": [
    {
     "name": "stdout",
     "output_type": "stream",
     "text": [
      "Model: \"sequential\"\n",
      "_________________________________________________________________\n",
      "Layer (type)                 Output Shape              Param #   \n",
      "=================================================================\n",
      "dense (Dense)                (None, 1)                 2         \n",
      "=================================================================\n",
      "Total params: 2\n",
      "Trainable params: 2\n",
      "Non-trainable params: 0\n",
      "_________________________________________________________________\n"
     ]
    }
   ],
   "source": [
    "model.summary()"
   ]
  },
  {
   "cell_type": "code",
   "execution_count": 9,
   "metadata": {},
   "outputs": [],
   "source": [
    "optimizer = tf.keras.optimizers.SGD(learning_rate=0.01)\n",
    "model.compile(loss='mse', optimizer=optimizer, metrics=['mse'])"
   ]
  },
  {
   "cell_type": "markdown",
   "metadata": {},
   "source": [
    "### Training"
   ]
  },
  {
   "cell_type": "code",
   "execution_count": 10,
   "metadata": {},
   "outputs": [
    {
     "name": "stdout",
     "output_type": "stream",
     "text": [
      "Epoch 1/100\n",
      "8/8 [==============================] - 0s 1ms/step - loss: 3497.1440 - mse: 3497.1440\n",
      "Epoch 2/100\n",
      "8/8 [==============================] - 0s 726us/step - loss: 2208.3104 - mse: 2208.3104\n",
      "Epoch 3/100\n",
      "8/8 [==============================] - 0s 848us/step - loss: 1631.3887 - mse: 1631.3888\n",
      "Epoch 4/100\n",
      "8/8 [==============================] - 0s 835us/step - loss: 1305.4532 - mse: 1305.4532\n",
      "Epoch 5/100\n",
      "8/8 [==============================] - 0s 925us/step - loss: 1159.1032 - mse: 1159.1032\n",
      "Epoch 6/100\n",
      "8/8 [==============================] - 0s 1ms/step - loss: 772.3134 - mse: 772.3134\n",
      "Epoch 7/100\n",
      "8/8 [==============================] - 0s 962us/step - loss: 542.3866 - mse: 542.3866\n",
      "Epoch 8/100\n",
      "8/8 [==============================] - 0s 803us/step - loss: 388.1440 - mse: 388.1440\n",
      "Epoch 9/100\n",
      "8/8 [==============================] - 0s 1ms/step - loss: 303.7302 - mse: 303.7302\n",
      "Epoch 10/100\n",
      "8/8 [==============================] - 0s 786us/step - loss: 257.9148 - mse: 257.9148\n",
      "Epoch 11/100\n",
      "8/8 [==============================] - 0s 955us/step - loss: 229.1994 - mse: 229.1994\n",
      "Epoch 12/100\n",
      "8/8 [==============================] - 0s 914us/step - loss: 205.6706 - mse: 205.6706\n",
      "Epoch 13/100\n",
      "8/8 [==============================] - 0s 904us/step - loss: 154.1961 - mse: 154.1961\n",
      "Epoch 14/100\n",
      "8/8 [==============================] - 0s 996us/step - loss: 116.9358 - mse: 116.9358\n",
      "Epoch 15/100\n",
      "8/8 [==============================] - 0s 872us/step - loss: 110.7996 - mse: 110.7996\n",
      "Epoch 16/100\n",
      "8/8 [==============================] - 0s 917us/step - loss: 113.7409 - mse: 113.7409\n",
      "Epoch 17/100\n",
      "8/8 [==============================] - 0s 863us/step - loss: 97.9942 - mse: 97.9942\n",
      "Epoch 18/100\n",
      "8/8 [==============================] - 0s 1ms/step - loss: 101.2080 - mse: 101.2080\n",
      "Epoch 19/100\n",
      "8/8 [==============================] - 0s 1ms/step - loss: 88.9246 - mse: 88.9246\n",
      "Epoch 20/100\n",
      "8/8 [==============================] - 0s 949us/step - loss: 106.3067 - mse: 106.3067\n",
      "Epoch 21/100\n",
      "8/8 [==============================] - 0s 1ms/step - loss: 92.9128 - mse: 92.9128\n",
      "Epoch 22/100\n",
      "8/8 [==============================] - 0s 1ms/step - loss: 94.0454 - mse: 94.0454\n",
      "Epoch 23/100\n",
      "8/8 [==============================] - 0s 983us/step - loss: 81.9850 - mse: 81.9850\n",
      "Epoch 24/100\n",
      "8/8 [==============================] - 0s 1ms/step - loss: 87.7065 - mse: 87.7065\n",
      "Epoch 25/100\n",
      "8/8 [==============================] - 0s 1ms/step - loss: 92.5011 - mse: 92.5011\n",
      "Epoch 26/100\n",
      "8/8 [==============================] - 0s 926us/step - loss: 106.7056 - mse: 106.7056\n",
      "Epoch 27/100\n",
      "8/8 [==============================] - 0s 972us/step - loss: 78.0943 - mse: 78.0943\n",
      "Epoch 28/100\n",
      "8/8 [==============================] - 0s 1ms/step - loss: 75.7286 - mse: 75.7286\n",
      "Epoch 29/100\n",
      "8/8 [==============================] - 0s 931us/step - loss: 79.3199 - mse: 79.3199\n",
      "Epoch 30/100\n",
      "8/8 [==============================] - 0s 1ms/step - loss: 82.3628 - mse: 82.3628\n",
      "Epoch 31/100\n",
      "8/8 [==============================] - 0s 1ms/step - loss: 87.6926 - mse: 87.6926\n",
      "Epoch 32/100\n",
      "8/8 [==============================] - 0s 1ms/step - loss: 69.6177 - mse: 69.6177\n",
      "Epoch 33/100\n",
      "8/8 [==============================] - 0s 969us/step - loss: 106.0318 - mse: 106.0318\n",
      "Epoch 34/100\n",
      "8/8 [==============================] - 0s 918us/step - loss: 87.6771 - mse: 87.6771\n",
      "Epoch 35/100\n",
      "8/8 [==============================] - 0s 1ms/step - loss: 84.1488 - mse: 84.1488\n",
      "Epoch 36/100\n",
      "8/8 [==============================] - 0s 1ms/step - loss: 75.9462 - mse: 75.9462\n",
      "Epoch 37/100\n",
      "8/8 [==============================] - 0s 1ms/step - loss: 64.4932 - mse: 64.4932\n",
      "Epoch 38/100\n",
      "8/8 [==============================] - 0s 1ms/step - loss: 81.5410 - mse: 81.5410\n",
      "Epoch 39/100\n",
      "8/8 [==============================] - 0s 964us/step - loss: 100.0051 - mse: 100.0051\n",
      "Epoch 40/100\n",
      "8/8 [==============================] - 0s 945us/step - loss: 104.7966 - mse: 104.7966\n",
      "Epoch 41/100\n",
      "8/8 [==============================] - 0s 991us/step - loss: 86.7925 - mse: 86.7925\n",
      "Epoch 42/100\n",
      "8/8 [==============================] - 0s 1ms/step - loss: 76.2406 - mse: 76.2406\n",
      "Epoch 43/100\n",
      "8/8 [==============================] - 0s 856us/step - loss: 99.2035 - mse: 99.2035\n",
      "Epoch 44/100\n",
      "8/8 [==============================] - 0s 797us/step - loss: 108.8484 - mse: 108.8484\n",
      "Epoch 45/100\n",
      "8/8 [==============================] - 0s 930us/step - loss: 71.9740 - mse: 71.9740\n",
      "Epoch 46/100\n",
      "8/8 [==============================] - 0s 937us/step - loss: 74.0787 - mse: 74.0787\n",
      "Epoch 47/100\n",
      "8/8 [==============================] - 0s 874us/step - loss: 73.4940 - mse: 73.4940\n",
      "Epoch 48/100\n",
      "8/8 [==============================] - 0s 1ms/step - loss: 96.3787 - mse: 96.3787\n",
      "Epoch 49/100\n",
      "8/8 [==============================] - 0s 749us/step - loss: 82.8435 - mse: 82.8435\n",
      "Epoch 50/100\n",
      "8/8 [==============================] - 0s 947us/step - loss: 79.8297 - mse: 79.8297\n",
      "Epoch 51/100\n",
      "8/8 [==============================] - 0s 894us/step - loss: 120.6397 - mse: 120.6397\n",
      "Epoch 52/100\n",
      "8/8 [==============================] - 0s 913us/step - loss: 91.1357 - mse: 91.1357\n",
      "Epoch 53/100\n",
      "8/8 [==============================] - 0s 950us/step - loss: 78.0002 - mse: 78.0002\n",
      "Epoch 54/100\n",
      "8/8 [==============================] - 0s 997us/step - loss: 78.1072 - mse: 78.1072\n",
      "Epoch 55/100\n",
      "8/8 [==============================] - 0s 1ms/step - loss: 83.8764 - mse: 83.8764\n",
      "Epoch 56/100\n",
      "8/8 [==============================] - 0s 1ms/step - loss: 115.4014 - mse: 115.4014\n",
      "Epoch 57/100\n",
      "8/8 [==============================] - 0s 885us/step - loss: 89.6858 - mse: 89.6858\n",
      "Epoch 58/100\n",
      "8/8 [==============================] - 0s 959us/step - loss: 88.0152 - mse: 88.0152\n",
      "Epoch 59/100\n",
      "8/8 [==============================] - 0s 1ms/step - loss: 60.5561 - mse: 60.5561\n",
      "Epoch 60/100\n",
      "8/8 [==============================] - 0s 1ms/step - loss: 70.1608 - mse: 70.1608\n",
      "Epoch 61/100\n",
      "8/8 [==============================] - 0s 851us/step - loss: 92.9559 - mse: 92.9559\n",
      "Epoch 62/100\n",
      "8/8 [==============================] - 0s 1ms/step - loss: 86.5096 - mse: 86.5096\n",
      "Epoch 63/100\n",
      "8/8 [==============================] - 0s 1ms/step - loss: 103.4757 - mse: 103.4757\n",
      "Epoch 64/100\n",
      "8/8 [==============================] - 0s 983us/step - loss: 87.4922 - mse: 87.4922\n",
      "Epoch 65/100\n",
      "8/8 [==============================] - 0s 840us/step - loss: 66.3978 - mse: 66.3978\n",
      "Epoch 66/100\n",
      "8/8 [==============================] - 0s 1ms/step - loss: 74.3346 - mse: 74.3346\n",
      "Epoch 67/100\n",
      "8/8 [==============================] - 0s 1ms/step - loss: 98.1384 - mse: 98.1384\n",
      "Epoch 68/100\n",
      "8/8 [==============================] - 0s 947us/step - loss: 76.7553 - mse: 76.7553\n",
      "Epoch 69/100\n",
      "8/8 [==============================] - 0s 843us/step - loss: 71.8247 - mse: 71.8247\n",
      "Epoch 70/100\n",
      "8/8 [==============================] - 0s 998us/step - loss: 79.0159 - mse: 79.0159\n",
      "Epoch 71/100\n",
      "8/8 [==============================] - 0s 1ms/step - loss: 115.4329 - mse: 115.4329\n",
      "Epoch 72/100\n",
      "8/8 [==============================] - 0s 1ms/step - loss: 85.8231 - mse: 85.8231\n",
      "Epoch 73/100\n",
      "8/8 [==============================] - 0s 860us/step - loss: 76.4519 - mse: 76.4519\n",
      "Epoch 74/100\n",
      "8/8 [==============================] - 0s 812us/step - loss: 73.8563 - mse: 73.8563\n",
      "Epoch 75/100\n",
      "8/8 [==============================] - 0s 975us/step - loss: 84.1004 - mse: 84.1004\n",
      "Epoch 76/100\n",
      "8/8 [==============================] - 0s 934us/step - loss: 94.3526 - mse: 94.3526\n",
      "Epoch 77/100\n",
      "8/8 [==============================] - 0s 1ms/step - loss: 91.2680 - mse: 91.2680\n",
      "Epoch 78/100\n",
      "8/8 [==============================] - 0s 877us/step - loss: 73.2604 - mse: 73.2604\n",
      "Epoch 79/100\n",
      "8/8 [==============================] - 0s 1ms/step - loss: 98.0302 - mse: 98.0302\n",
      "Epoch 80/100\n",
      "8/8 [==============================] - 0s 1ms/step - loss: 79.0594 - mse: 79.0594\n",
      "Epoch 81/100\n",
      "8/8 [==============================] - 0s 955us/step - loss: 92.9773 - mse: 92.9773\n",
      "Epoch 82/100\n",
      "8/8 [==============================] - 0s 1ms/step - loss: 107.1934 - mse: 107.1934\n",
      "Epoch 83/100\n",
      "8/8 [==============================] - 0s 1ms/step - loss: 94.1825 - mse: 94.1825\n",
      "Epoch 84/100\n",
      "8/8 [==============================] - 0s 1ms/step - loss: 81.7711 - mse: 81.7711\n",
      "Epoch 85/100\n"
     ]
    },
    {
     "name": "stdout",
     "output_type": "stream",
     "text": [
      "8/8 [==============================] - 0s 1ms/step - loss: 82.1202 - mse: 82.1202\n",
      "Epoch 86/100\n",
      "8/8 [==============================] - 0s 1ms/step - loss: 109.8277 - mse: 109.8277\n",
      "Epoch 87/100\n",
      "8/8 [==============================] - 0s 850us/step - loss: 60.9327 - mse: 60.9327\n",
      "Epoch 88/100\n",
      "8/8 [==============================] - 0s 970us/step - loss: 67.9057 - mse: 67.9057\n",
      "Epoch 89/100\n",
      "8/8 [==============================] - 0s 850us/step - loss: 71.8824 - mse: 71.8824\n",
      "Epoch 90/100\n",
      "8/8 [==============================] - 0s 811us/step - loss: 70.2574 - mse: 70.2574\n",
      "Epoch 91/100\n",
      "8/8 [==============================] - 0s 768us/step - loss: 114.2967 - mse: 114.2967\n",
      "Epoch 92/100\n",
      "8/8 [==============================] - 0s 923us/step - loss: 79.2052 - mse: 79.2052\n",
      "Epoch 93/100\n",
      "8/8 [==============================] - 0s 937us/step - loss: 58.2898 - mse: 58.2898\n",
      "Epoch 94/100\n",
      "8/8 [==============================] - 0s 1ms/step - loss: 84.8436 - mse: 84.8436\n",
      "Epoch 95/100\n",
      "8/8 [==============================] - 0s 939us/step - loss: 89.9381 - mse: 89.9381\n",
      "Epoch 96/100\n",
      "8/8 [==============================] - 0s 995us/step - loss: 82.2167 - mse: 82.2167\n",
      "Epoch 97/100\n",
      "8/8 [==============================] - 0s 885us/step - loss: 90.2032 - mse: 90.2032\n",
      "Epoch 98/100\n",
      "8/8 [==============================] - 0s 841us/step - loss: 75.7476 - mse: 75.7476\n",
      "Epoch 99/100\n",
      "8/8 [==============================] - 0s 1ms/step - loss: 72.7336 - mse: 72.7336\n",
      "Epoch 100/100\n",
      "8/8 [==============================] - 0s 1ms/step - loss: 90.1038 - mse: 90.1038\n"
     ]
    },
    {
     "data": {
      "text/plain": [
       "<tensorflow.python.keras.callbacks.History at 0x7f25ef5169b0>"
      ]
     },
     "execution_count": 10,
     "metadata": {},
     "output_type": "execute_result"
    }
   ],
   "source": [
    "model.fit(train_x, train_y, batch_size=10, epochs=100, shuffle=True)"
   ]
  },
  {
   "cell_type": "markdown",
   "metadata": {},
   "source": [
    "### Test"
   ]
  },
  {
   "cell_type": "code",
   "execution_count": 11,
   "metadata": {},
   "outputs": [],
   "source": [
    "y_pred = model.predict(test_x)"
   ]
  },
  {
   "cell_type": "code",
   "execution_count": 22,
   "metadata": {},
   "outputs": [
    {
     "data": {
      "text/plain": [
       "Text(0.5, 1.0, 'Model test')"
      ]
     },
     "execution_count": 22,
     "metadata": {},
     "output_type": "execute_result"
    },
    {
     "data": {
      "image/png": "[encoded data removed]",
      "text/plain": [
       "<Figure size 432x288 with 1 Axes>"
      ]
     },
     "metadata": {
      "needs_background": "light"
     },
     "output_type": "display_data"
    }
   ],
   "source": [
    "#plt.figure(dpi=150)\n",
    "plt.plot(test_x, test_y,'.')\n",
    "plt.plot(test_x, y_pred,'r.')\n",
    "plt.legend(['pred', 'actual'])\n",
    "plt.title('Model test')"
   ]
  },
  {
   "cell_type": "markdown",
   "metadata": {},
   "source": [
    "### Weight / bias (advanced)"
   ]
  },
  {
   "cell_type": "code",
   "execution_count": 13,
   "metadata": {},
   "outputs": [
    {
     "data": {
      "text/plain": [
       "[array([[59.012638]], dtype=float32), array([10.906623], dtype=float32)]"
      ]
     },
     "execution_count": 13,
     "metadata": {},
     "output_type": "execute_result"
    }
   ],
   "source": [
    "model.layers[0].get_weights()"
   ]
  },
  {
   "cell_type": "code",
   "execution_count": 14,
   "metadata": {},
   "outputs": [],
   "source": [
    "w1 = model.layers[0].get_weights()[0]\n",
    "b1 = model.layers[0].get_weights()[1]"
   ]
  },
  {
   "cell_type": "code",
   "execution_count": 15,
   "metadata": {},
   "outputs": [],
   "source": [
    "w1 = w1[0]\n",
    "b1 = b1[0]"
   ]
  },
  {
   "cell_type": "code",
   "execution_count": 16,
   "metadata": {},
   "outputs": [],
   "source": [
    "y_pred2 = test_x * w1 + b1"
   ]
  },
  {
   "cell_type": "code",
   "execution_count": 17,
   "metadata": {},
   "outputs": [
    {
     "data": {
      "text/plain": [
       "<matplotlib.legend.Legend at 0x7f25ecb055f8>"
      ]
     },
     "execution_count": 17,
     "metadata": {},
     "output_type": "execute_result"
    },
    {
     "data": {
      "image/png": "[encoded data removed]",
      "text/plain": [
       "<Figure size 432x288 with 1 Axes>"
      ]
     },
     "metadata": {
      "needs_background": "light"
     },
     "output_type": "display_data"
    }
   ],
   "source": [
    "plt.plot(test_x, y_pred,'o')\n",
    "plt.plot(test_x, y_pred2,'*')\n",
    "plt.legend(['pred', 'pred (custom)'])"
   ]
  },
  {
   "cell_type": "code",
   "execution_count": 20,
   "metadata": {},
   "outputs": [
    {
     "data": {
      "text/plain": [
       "Text(0.5, 1.0, 'linear regression using keras')"
      ]
     },
     "execution_count": 20,
     "metadata": {},
     "output_type": "execute_result"
    },
    {
     "data": {
      "image/png": "[encoded data removed]",
      "text/plain": [
       "<Figure size 432x288 with 1 Axes>"
      ]
     },
     "metadata": {
      "needs_background": "light"
     },
     "output_type": "display_data"
    }
   ],
   "source": [
    "x1 = np.min(test_x)-1, np.max(test_x)+1\n",
    "y1 = w1 * x1 + b1\n",
    "#plt.figure(dpi=150)\n",
    "plt.plot(test_x, test_y,'o')\n",
    "plt.plot(x1, y1)\n",
    "plt.xlabel('x')\n",
    "plt.ylabel('y')\n",
    "plt.title('linear regression using keras')"
   ]
  },
  {
   "cell_type": "markdown",
   "metadata": {},
   "source": [
    "# References\n",
    "\n",
    "Simple Linear Regression with Tensorflow 2.0, https://ayoteralab.tistory.com/entry/Tensorflow-20-05-Simple-Linear-Regression-3 or https://archive.is/ya44R"
   ]
  }
 ],
 "metadata": {
  "kernelspec": {
   "display_name": "Python 3",
   "language": "python",
   "name": "python3"
  },
  "language_info": {
   "codemirror_mode": {
    "name": "ipython",
    "version": 3
   },
   "file_extension": ".py",
   "mimetype": "text/x-python",
   "name": "python",
   "nbconvert_exporter": "python",
   "pygments_lexer": "ipython3",
   "version": "3.6.8"
  }
 },
 "nbformat": 4,
 "nbformat_minor": 2
}

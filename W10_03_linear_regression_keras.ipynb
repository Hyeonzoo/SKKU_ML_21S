{
 "cells": [
  {
   "cell_type": "code",
   "execution_count": 1,
   "metadata": {
    "scrolled": true
   },
   "outputs": [
    {
     "name": "stdout",
     "output_type": "stream",
     "text": [
      "INFO:tensorflow:Enabling eager execution\n",
      "INFO:tensorflow:Enabling v2 tensorshape\n",
      "INFO:tensorflow:Enabling resource variables\n",
      "INFO:tensorflow:Enabling tensor equality\n",
      "INFO:tensorflow:Enabling control flow v2\n"
     ]
    }
   ],
   "source": [
    "from sklearn.datasets import make_regression\n",
    "import numpy as np\n",
    "import matplotlib.pyplot as plt\n",
    "\n",
    "import tensorflow as tf\n",
    "from tensorflow import keras"
   ]
  },
  {
   "cell_type": "markdown",
   "metadata": {},
   "source": [
    "### Data preparation"
   ]
  },
  {
   "cell_type": "code",
   "execution_count": 2,
   "metadata": {},
   "outputs": [
    {
     "name": "stdout",
     "output_type": "stream",
     "text": [
      "(100, 1)\n",
      "(100, 1)\n"
     ]
    }
   ],
   "source": [
    "X, y = make_regression(n_samples=100, n_features=1, bias=10.0, noise=10.0, random_state=2)\n",
    "y = np.expand_dims(y, axis=1)\n",
    "\n",
    "print(X.shape)\n",
    "print(y.shape)"
   ]
  },
  {
   "cell_type": "code",
   "execution_count": 3,
   "metadata": {},
   "outputs": [
    {
     "data": {
      "image/png": "[encoded data removed]",
      "text/plain": [
       "<Figure size 432x288 with 1 Axes>"
      ]
     },
     "metadata": {
      "needs_background": "light"
     },
     "output_type": "display_data"
    }
   ],
   "source": [
    "plt.scatter(X, y)\n",
    "plt.title('Generated data')\n",
    "plt.show()"
   ]
  },
  {
   "cell_type": "markdown",
   "metadata": {},
   "source": [
    "### Data split"
   ]
  },
  {
   "cell_type": "code",
   "execution_count": 4,
   "metadata": {},
   "outputs": [],
   "source": [
    "train_x = X[:80]\n",
    "test_x = X[80:]\n",
    "\n",
    "train_y = y[:80]\n",
    "test_y = y[80:]"
   ]
  },
  {
   "cell_type": "code",
   "execution_count": 5,
   "metadata": {},
   "outputs": [
    {
     "data": {
      "text/plain": [
       "(80, 1)"
      ]
     },
     "execution_count": 5,
     "metadata": {},
     "output_type": "execute_result"
    }
   ],
   "source": [
    "train_x.shape"
   ]
  },
  {
   "cell_type": "code",
   "execution_count": 6,
   "metadata": {},
   "outputs": [
    {
     "data": {
      "text/plain": [
       "(20, 1)"
      ]
     },
     "execution_count": 6,
     "metadata": {},
     "output_type": "execute_result"
    }
   ],
   "source": [
    "test_x.shape"
   ]
  },
  {
   "cell_type": "markdown",
   "metadata": {},
   "source": [
    "### Defining model"
   ]
  },
  {
   "cell_type": "code",
   "execution_count": 7,
   "metadata": {},
   "outputs": [],
   "source": [
    "model = tf.keras.Sequential()\n",
    "model.add(tf.keras.layers.Dense(1, activation='linear', input_shape=(1,)))\n"
   ]
  },
  {
   "cell_type": "code",
   "execution_count": 8,
   "metadata": {},
   "outputs": [
    {
     "name": "stdout",
     "output_type": "stream",
     "text": [
      "Model: \"sequential\"\n",
      "_________________________________________________________________\n",
      "Layer (type)                 Output Shape              Param #   \n",
      "=================================================================\n",
      "dense (Dense)                (None, 1)                 2         \n",
      "=================================================================\n",
      "Total params: 2\n",
      "Trainable params: 2\n",
      "Non-trainable params: 0\n",
      "_________________________________________________________________\n"
     ]
    }
   ],
   "source": [
    "model.summary()"
   ]
  },
  {
   "cell_type": "code",
   "execution_count": 9,
   "metadata": {},
   "outputs": [],
   "source": [
    "optimizer = tf.keras.optimizers.SGD(learning_rate=0.01)\n",
    "model.compile(loss='mse', optimizer=optimizer, metrics=['mse'])"
   ]
  },
  {
   "cell_type": "markdown",
   "metadata": {},
   "source": [
    "### Training"
   ]
  },
  {
   "cell_type": "code",
   "execution_count": 10,
   "metadata": {},
   "outputs": [
    {
     "name": "stdout",
     "output_type": "stream",
     "text": [
      "Epoch 1/100\n",
      "8/8 [==============================] - 0s 826us/step - loss: 3385.8615 - mse: 3385.8615\n",
      "Epoch 2/100\n",
      "8/8 [==============================] - 0s 1ms/step - loss: 2466.5323 - mse: 2466.5323\n",
      "Epoch 3/100\n",
      "8/8 [==============================] - 0s 736us/step - loss: 1770.1385 - mse: 1770.1384\n",
      "Epoch 4/100\n",
      "8/8 [==============================] - 0s 798us/step - loss: 1499.0501 - mse: 1499.0501\n",
      "Epoch 5/100\n",
      "8/8 [==============================] - 0s 879us/step - loss: 1092.3212 - mse: 1092.3212\n",
      "Epoch 6/100\n",
      "8/8 [==============================] - 0s 828us/step - loss: 818.7365 - mse: 818.7365\n",
      "Epoch 7/100\n",
      "8/8 [==============================] - 0s 795us/step - loss: 521.1871 - mse: 521.1871\n",
      "Epoch 8/100\n",
      "8/8 [==============================] - 0s 661us/step - loss: 404.1384 - mse: 404.1384\n",
      "Epoch 9/100\n",
      "8/8 [==============================] - 0s 817us/step - loss: 382.6028 - mse: 382.6029\n",
      "Epoch 10/100\n",
      "8/8 [==============================] - 0s 1ms/step - loss: 267.8283 - mse: 267.8283\n",
      "Epoch 11/100\n",
      "8/8 [==============================] - 0s 920us/step - loss: 230.9840 - mse: 230.9840\n",
      "Epoch 12/100\n",
      "8/8 [==============================] - 0s 1ms/step - loss: 167.7531 - mse: 167.7531\n",
      "Epoch 13/100\n",
      "8/8 [==============================] - 0s 945us/step - loss: 176.7643 - mse: 176.7643\n",
      "Epoch 14/100\n",
      "8/8 [==============================] - 0s 1ms/step - loss: 144.5373 - mse: 144.5373\n",
      "Epoch 15/100\n",
      "8/8 [==============================] - 0s 933us/step - loss: 124.1680 - mse: 124.1680\n",
      "Epoch 16/100\n",
      "8/8 [==============================] - 0s 943us/step - loss: 94.9140 - mse: 94.9140\n",
      "Epoch 17/100\n",
      "8/8 [==============================] - 0s 966us/step - loss: 95.0860 - mse: 95.0860\n",
      "Epoch 18/100\n",
      "8/8 [==============================] - 0s 898us/step - loss: 98.0224 - mse: 98.0224\n",
      "Epoch 19/100\n",
      "8/8 [==============================] - 0s 970us/step - loss: 108.4760 - mse: 108.4760\n",
      "Epoch 20/100\n",
      "8/8 [==============================] - 0s 754us/step - loss: 105.2045 - mse: 105.2045\n",
      "Epoch 21/100\n",
      "8/8 [==============================] - 0s 991us/step - loss: 83.4148 - mse: 83.4148\n",
      "Epoch 22/100\n",
      "8/8 [==============================] - 0s 952us/step - loss: 83.9576 - mse: 83.9576\n",
      "Epoch 23/100\n",
      "8/8 [==============================] - 0s 1ms/step - loss: 92.8117 - mse: 92.8117\n",
      "Epoch 24/100\n",
      "8/8 [==============================] - 0s 1ms/step - loss: 92.3571 - mse: 92.3571\n",
      "Epoch 25/100\n",
      "8/8 [==============================] - 0s 1ms/step - loss: 81.6348 - mse: 81.6348\n",
      "Epoch 26/100\n",
      "8/8 [==============================] - 0s 938us/step - loss: 70.7145 - mse: 70.7145\n",
      "Epoch 27/100\n",
      "8/8 [==============================] - 0s 1ms/step - loss: 87.3019 - mse: 87.3019\n",
      "Epoch 28/100\n",
      "8/8 [==============================] - 0s 1ms/step - loss: 65.7887 - mse: 65.7887\n",
      "Epoch 29/100\n",
      "8/8 [==============================] - 0s 1ms/step - loss: 86.0213 - mse: 86.0213\n",
      "Epoch 30/100\n",
      "8/8 [==============================] - 0s 1ms/step - loss: 87.7924 - mse: 87.7924\n",
      "Epoch 31/100\n",
      "8/8 [==============================] - 0s 1ms/step - loss: 73.2219 - mse: 73.2219\n",
      "Epoch 32/100\n",
      "8/8 [==============================] - 0s 900us/step - loss: 85.6162 - mse: 85.6162\n",
      "Epoch 33/100\n",
      "8/8 [==============================] - 0s 1ms/step - loss: 75.9537 - mse: 75.9537\n",
      "Epoch 34/100\n",
      "8/8 [==============================] - 0s 1ms/step - loss: 90.2455 - mse: 90.2455\n",
      "Epoch 35/100\n",
      "8/8 [==============================] - 0s 945us/step - loss: 95.6540 - mse: 95.6540\n",
      "Epoch 36/100\n",
      "8/8 [==============================] - 0s 1ms/step - loss: 81.6832 - mse: 81.6832\n",
      "Epoch 37/100\n",
      "8/8 [==============================] - 0s 949us/step - loss: 88.6591 - mse: 88.6591\n",
      "Epoch 38/100\n",
      "8/8 [==============================] - 0s 860us/step - loss: 74.0886 - mse: 74.0886\n",
      "Epoch 39/100\n",
      "8/8 [==============================] - 0s 925us/step - loss: 84.2454 - mse: 84.2454\n",
      "Epoch 40/100\n",
      "8/8 [==============================] - 0s 1ms/step - loss: 100.2781 - mse: 100.2781\n",
      "Epoch 41/100\n",
      "8/8 [==============================] - 0s 1ms/step - loss: 78.9414 - mse: 78.9414\n",
      "Epoch 42/100\n",
      "8/8 [==============================] - 0s 998us/step - loss: 69.4743 - mse: 69.4743\n",
      "Epoch 43/100\n",
      "8/8 [==============================] - 0s 1ms/step - loss: 90.3493 - mse: 90.3493\n",
      "Epoch 44/100\n",
      "8/8 [==============================] - 0s 1ms/step - loss: 79.1114 - mse: 79.1114\n",
      "Epoch 45/100\n",
      "8/8 [==============================] - 0s 1ms/step - loss: 85.2415 - mse: 85.2415\n",
      "Epoch 46/100\n",
      "8/8 [==============================] - 0s 950us/step - loss: 84.2705 - mse: 84.2705\n",
      "Epoch 47/100\n",
      "8/8 [==============================] - 0s 872us/step - loss: 88.3650 - mse: 88.3650\n",
      "Epoch 48/100\n",
      "8/8 [==============================] - 0s 772us/step - loss: 95.0376 - mse: 95.0376\n",
      "Epoch 49/100\n",
      "8/8 [==============================] - 0s 1ms/step - loss: 104.5769 - mse: 104.5769\n",
      "Epoch 50/100\n",
      "8/8 [==============================] - 0s 977us/step - loss: 101.2192 - mse: 101.2192\n",
      "Epoch 51/100\n",
      "8/8 [==============================] - 0s 914us/step - loss: 89.1706 - mse: 89.1706\n",
      "Epoch 52/100\n",
      "8/8 [==============================] - 0s 1ms/step - loss: 79.2262 - mse: 79.2262\n",
      "Epoch 53/100\n",
      "8/8 [==============================] - 0s 1ms/step - loss: 87.0745 - mse: 87.0745\n",
      "Epoch 54/100\n",
      "8/8 [==============================] - 0s 1ms/step - loss: 81.4691 - mse: 81.4691\n",
      "Epoch 55/100\n",
      "8/8 [==============================] - 0s 937us/step - loss: 102.3374 - mse: 102.3374\n",
      "Epoch 56/100\n",
      "8/8 [==============================] - 0s 941us/step - loss: 67.2248 - mse: 67.2248\n",
      "Epoch 57/100\n",
      "8/8 [==============================] - 0s 979us/step - loss: 78.4606 - mse: 78.4606\n",
      "Epoch 58/100\n",
      "8/8 [==============================] - 0s 1ms/step - loss: 107.1815 - mse: 107.1815\n",
      "Epoch 59/100\n",
      "8/8 [==============================] - 0s 950us/step - loss: 80.0487 - mse: 80.0487\n",
      "Epoch 60/100\n",
      "8/8 [==============================] - 0s 1ms/step - loss: 78.4422 - mse: 78.4422\n",
      "Epoch 61/100\n",
      "8/8 [==============================] - 0s 1ms/step - loss: 92.3218 - mse: 92.3218\n",
      "Epoch 62/100\n",
      "8/8 [==============================] - 0s 987us/step - loss: 84.9027 - mse: 84.9027\n",
      "Epoch 63/100\n",
      "8/8 [==============================] - 0s 918us/step - loss: 87.9412 - mse: 87.9412\n",
      "Epoch 64/100\n",
      "8/8 [==============================] - 0s 915us/step - loss: 88.4772 - mse: 88.4772\n",
      "Epoch 65/100\n",
      "8/8 [==============================] - 0s 794us/step - loss: 83.7692 - mse: 83.7692\n",
      "Epoch 66/100\n",
      "8/8 [==============================] - 0s 963us/step - loss: 95.3972 - mse: 95.3972\n",
      "Epoch 67/100\n",
      "8/8 [==============================] - 0s 1ms/step - loss: 97.0718 - mse: 97.0718\n",
      "Epoch 68/100\n",
      "8/8 [==============================] - 0s 1ms/step - loss: 90.8951 - mse: 90.8951\n",
      "Epoch 69/100\n",
      "8/8 [==============================] - 0s 1ms/step - loss: 85.2209 - mse: 85.2209\n",
      "Epoch 70/100\n",
      "8/8 [==============================] - 0s 1ms/step - loss: 92.2480 - mse: 92.2480\n",
      "Epoch 71/100\n",
      "8/8 [==============================] - 0s 1ms/step - loss: 73.3121 - mse: 73.3121\n",
      "Epoch 72/100\n",
      "8/8 [==============================] - 0s 890us/step - loss: 65.4079 - mse: 65.4079\n",
      "Epoch 73/100\n",
      "8/8 [==============================] - 0s 1ms/step - loss: 82.9114 - mse: 82.9114\n",
      "Epoch 74/100\n",
      "8/8 [==============================] - 0s 1ms/step - loss: 79.3950 - mse: 79.3950\n",
      "Epoch 75/100\n",
      "8/8 [==============================] - 0s 955us/step - loss: 79.5372 - mse: 79.5372\n",
      "Epoch 76/100\n",
      "8/8 [==============================] - 0s 901us/step - loss: 98.0465 - mse: 98.0465\n",
      "Epoch 77/100\n",
      "8/8 [==============================] - 0s 1ms/step - loss: 86.7446 - mse: 86.7446\n",
      "Epoch 78/100\n",
      "8/8 [==============================] - 0s 1ms/step - loss: 72.2492 - mse: 72.2492\n",
      "Epoch 79/100\n",
      "8/8 [==============================] - 0s 1ms/step - loss: 91.9694 - mse: 91.9694\n",
      "Epoch 80/100\n",
      "8/8 [==============================] - 0s 1ms/step - loss: 87.5307 - mse: 87.5307\n",
      "Epoch 81/100\n",
      "8/8 [==============================] - 0s 939us/step - loss: 79.7608 - mse: 79.7608\n",
      "Epoch 82/100\n",
      "8/8 [==============================] - 0s 1ms/step - loss: 94.6455 - mse: 94.6455\n",
      "Epoch 83/100\n",
      "8/8 [==============================] - 0s 893us/step - loss: 81.3849 - mse: 81.3849\n",
      "Epoch 84/100\n",
      "8/8 [==============================] - 0s 933us/step - loss: 71.7773 - mse: 71.7773\n",
      "Epoch 85/100\n"
     ]
    },
    {
     "name": "stdout",
     "output_type": "stream",
     "text": [
      "8/8 [==============================] - 0s 829us/step - loss: 78.7143 - mse: 78.7143\n",
      "Epoch 86/100\n",
      "8/8 [==============================] - 0s 1ms/step - loss: 84.2685 - mse: 84.2685\n",
      "Epoch 87/100\n",
      "8/8 [==============================] - 0s 1ms/step - loss: 85.7464 - mse: 85.7464\n",
      "Epoch 88/100\n",
      "8/8 [==============================] - 0s 1ms/step - loss: 96.6873 - mse: 96.6873\n",
      "Epoch 89/100\n",
      "8/8 [==============================] - 0s 948us/step - loss: 81.4329 - mse: 81.4329\n",
      "Epoch 90/100\n",
      "8/8 [==============================] - 0s 1ms/step - loss: 82.1834 - mse: 82.1834\n",
      "Epoch 91/100\n",
      "8/8 [==============================] - 0s 1ms/step - loss: 75.7005 - mse: 75.7005\n",
      "Epoch 92/100\n",
      "8/8 [==============================] - 0s 1ms/step - loss: 97.7028 - mse: 97.7028\n",
      "Epoch 93/100\n",
      "8/8 [==============================] - 0s 987us/step - loss: 91.5140 - mse: 91.5140\n",
      "Epoch 94/100\n",
      "8/8 [==============================] - 0s 1ms/step - loss: 69.3667 - mse: 69.3667\n",
      "Epoch 95/100\n",
      "8/8 [==============================] - 0s 1ms/step - loss: 82.9024 - mse: 82.9024\n",
      "Epoch 96/100\n",
      "8/8 [==============================] - 0s 1ms/step - loss: 78.8225 - mse: 78.8225\n",
      "Epoch 97/100\n",
      "8/8 [==============================] - 0s 970us/step - loss: 81.7248 - mse: 81.7248\n",
      "Epoch 98/100\n",
      "8/8 [==============================] - 0s 1ms/step - loss: 90.8964 - mse: 90.8964\n",
      "Epoch 99/100\n",
      "8/8 [==============================] - 0s 1ms/step - loss: 76.1574 - mse: 76.1574\n",
      "Epoch 100/100\n",
      "8/8 [==============================] - 0s 1ms/step - loss: 67.3392 - mse: 67.3392\n"
     ]
    },
    {
     "data": {
      "text/plain": [
       "<tensorflow.python.keras.callbacks.History at 0x7fcd8ed4e9e8>"
      ]
     },
     "execution_count": 10,
     "metadata": {},
     "output_type": "execute_result"
    }
   ],
   "source": [
    "model.fit(train_x, train_y, batch_size=10, epochs=100, shuffle=True)"
   ]
  },
  {
   "cell_type": "markdown",
   "metadata": {},
   "source": [
    "### Test"
   ]
  },
  {
   "cell_type": "code",
   "execution_count": 11,
   "metadata": {},
   "outputs": [],
   "source": [
    "y_pred = model.predict(test_x)"
   ]
  },
  {
   "cell_type": "code",
   "execution_count": 14,
   "metadata": {},
   "outputs": [
    {
     "data": {
      "text/plain": [
       "Text(0.5, 1.0, 'Model test')"
      ]
     },
     "execution_count": 14,
     "metadata": {},
     "output_type": "execute_result"
    },
    {
     "data": {
      "image/png": "[encoded data removed]",
      "text/plain": [
       "<Figure size 432x288 with 1 Axes>"
      ]
     },
     "metadata": {
      "needs_background": "light"
     },
     "output_type": "display_data"
    }
   ],
   "source": [
    "plt.plot(test_x, test_y,'.')\n",
    "plt.plot(test_x, y_pred,'r.')\n",
    "plt.legend(['pred', 'actual'])\n",
    "plt.title('Model test')"
   ]
  },
  {
   "cell_type": "markdown",
   "metadata": {},
   "source": [
    "# References\n",
    "\n",
    "Simple Linear Regression with Tensorflow 2.0, https://ayoteralab.tistory.com/entry/Tensorflow-20-05-Simple-Linear-Regression-3 or https://archive.is/ya44R"
   ]
  }
 ],
 "metadata": {
  "kernelspec": {
   "display_name": "Python 3",
   "language": "python",
   "name": "python3"
  },
  "language_info": {
   "codemirror_mode": {
    "name": "ipython",
    "version": 3
   },
   "file_extension": ".py",
   "mimetype": "text/x-python",
   "name": "python",
   "nbconvert_exporter": "python",
   "pygments_lexer": "ipython3",
   "version": "3.6.8"
  }
 },
 "nbformat": 4,
 "nbformat_minor": 2
}

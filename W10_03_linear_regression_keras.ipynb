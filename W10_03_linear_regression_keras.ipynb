{
 "cells": [
  {
   "cell_type": "code",
   "execution_count": 1,
   "metadata": {
    "scrolled": true
   },
   "outputs": [
    {
     "name": "stdout",
     "output_type": "stream",
     "text": [
      "INFO:tensorflow:Enabling eager execution\n",
      "INFO:tensorflow:Enabling v2 tensorshape\n",
      "INFO:tensorflow:Enabling resource variables\n",
      "INFO:tensorflow:Enabling tensor equality\n",
      "INFO:tensorflow:Enabling control flow v2\n"
     ]
    }
   ],
   "source": [
    "from sklearn.datasets import make_regression\n",
    "import numpy as np\n",
    "import matplotlib.pyplot as plt\n",
    "\n",
    "import tensorflow as tf\n",
    "from tensorflow import keras"
   ]
  },
  {
   "cell_type": "markdown",
   "metadata": {},
   "source": [
    "### Data preparation"
   ]
  },
  {
   "cell_type": "code",
   "execution_count": 2,
   "metadata": {},
   "outputs": [
    {
     "name": "stdout",
     "output_type": "stream",
     "text": [
      "(100, 1)\n",
      "(100, 1)\n"
     ]
    }
   ],
   "source": [
    "X, y = make_regression(n_samples=100, n_features=1, bias=10.0, noise=10.0, random_state=2)\n",
    "y = np.expand_dims(y, axis=1)\n",
    "\n",
    "print(X.shape)\n",
    "print(y.shape)"
   ]
  },
  {
   "cell_type": "code",
   "execution_count": 3,
   "metadata": {},
   "outputs": [
    {
     "data": {
      "image/png": "[encoded data removed]",
      "text/plain": [
       "<Figure size 432x288 with 1 Axes>"
      ]
     },
     "metadata": {
      "needs_background": "light"
     },
     "output_type": "display_data"
    }
   ],
   "source": [
    "plt.scatter(X, y)\n",
    "plt.title('Generated data')\n",
    "plt.show()"
   ]
  },
  {
   "cell_type": "markdown",
   "metadata": {},
   "source": [
    "### Data split"
   ]
  },
  {
   "cell_type": "code",
   "execution_count": 4,
   "metadata": {},
   "outputs": [],
   "source": [
    "train_x = X[:80]\n",
    "test_x = X[80:]\n",
    "\n",
    "train_y = y[:80]\n",
    "test_y = y[80:]"
   ]
  },
  {
   "cell_type": "code",
   "execution_count": 5,
   "metadata": {},
   "outputs": [
    {
     "data": {
      "text/plain": [
       "(80, 1)"
      ]
     },
     "execution_count": 5,
     "metadata": {},
     "output_type": "execute_result"
    }
   ],
   "source": [
    "train_x.shape"
   ]
  },
  {
   "cell_type": "code",
   "execution_count": 6,
   "metadata": {},
   "outputs": [
    {
     "data": {
      "text/plain": [
       "(20, 1)"
      ]
     },
     "execution_count": 6,
     "metadata": {},
     "output_type": "execute_result"
    }
   ],
   "source": [
    "test_x.shape"
   ]
  },
  {
   "cell_type": "markdown",
   "metadata": {},
   "source": [
    "### Defining model"
   ]
  },
  {
   "cell_type": "code",
   "execution_count": 7,
   "metadata": {},
   "outputs": [],
   "source": [
    "model = tf.keras.Sequential()\n",
    "model.add(tf.keras.layers.Dense(1, activation='linear', input_shape=(1,)))"
   ]
  },
  {
   "cell_type": "code",
   "execution_count": 8,
   "metadata": {},
   "outputs": [
    {
     "name": "stdout",
     "output_type": "stream",
     "text": [
      "Model: \"sequential\"\n",
      "_________________________________________________________________\n",
      "Layer (type)                 Output Shape              Param #   \n",
      "=================================================================\n",
      "dense (Dense)                (None, 1)                 2         \n",
      "=================================================================\n",
      "Total params: 2\n",
      "Trainable params: 2\n",
      "Non-trainable params: 0\n",
      "_________________________________________________________________\n"
     ]
    }
   ],
   "source": [
    "model.summary()"
   ]
  },
  {
   "cell_type": "code",
   "execution_count": 9,
   "metadata": {},
   "outputs": [],
   "source": [
    "optimizer = tf.keras.optimizers.SGD(learning_rate=0.01)\n",
    "model.compile(loss='mse', optimizer=optimizer, metrics=['mse'])"
   ]
  },
  {
   "cell_type": "markdown",
   "metadata": {},
   "source": [
    "### Training"
   ]
  },
  {
   "cell_type": "code",
   "execution_count": 10,
   "metadata": {},
   "outputs": [
    {
     "name": "stdout",
     "output_type": "stream",
     "text": [
      "Epoch 1/100\n",
      "8/8 [==============================] - 0s 1ms/step - loss: 3368.2355 - mse: 3368.2355\n",
      "Epoch 2/100\n",
      "8/8 [==============================] - 0s 778us/step - loss: 2384.1259 - mse: 2384.1259\n",
      "Epoch 3/100\n",
      "8/8 [==============================] - 0s 992us/step - loss: 1990.3206 - mse: 1990.3206\n",
      "Epoch 4/100\n",
      "8/8 [==============================] - 0s 803us/step - loss: 1453.2794 - mse: 1453.2794\n",
      "Epoch 5/100\n",
      "8/8 [==============================] - 0s 887us/step - loss: 1180.8498 - mse: 1180.8498\n",
      "Epoch 6/100\n",
      "8/8 [==============================] - 0s 820us/step - loss: 756.3903 - mse: 756.3903\n",
      "Epoch 7/100\n",
      "8/8 [==============================] - 0s 682us/step - loss: 592.8251 - mse: 592.8251\n",
      "Epoch 8/100\n",
      "8/8 [==============================] - 0s 714us/step - loss: 478.2413 - mse: 478.2414\n",
      "Epoch 9/100\n",
      "8/8 [==============================] - 0s 735us/step - loss: 375.6004 - mse: 375.6004\n",
      "Epoch 10/100\n",
      "8/8 [==============================] - 0s 752us/step - loss: 266.9683 - mse: 266.9683\n",
      "Epoch 11/100\n",
      "8/8 [==============================] - 0s 906us/step - loss: 225.7560 - mse: 225.7560\n",
      "Epoch 12/100\n",
      "8/8 [==============================] - 0s 832us/step - loss: 206.8738 - mse: 206.8738\n",
      "Epoch 13/100\n",
      "8/8 [==============================] - 0s 959us/step - loss: 145.1867 - mse: 145.1867\n",
      "Epoch 14/100\n",
      "8/8 [==============================] - 0s 895us/step - loss: 149.0766 - mse: 149.0766\n",
      "Epoch 15/100\n",
      "8/8 [==============================] - 0s 885us/step - loss: 110.3346 - mse: 110.3346\n",
      "Epoch 16/100\n",
      "8/8 [==============================] - 0s 926us/step - loss: 116.8278 - mse: 116.8278\n",
      "Epoch 17/100\n",
      "8/8 [==============================] - 0s 876us/step - loss: 119.9633 - mse: 119.9633\n",
      "Epoch 18/100\n",
      "8/8 [==============================] - 0s 926us/step - loss: 86.6939 - mse: 86.6939\n",
      "Epoch 19/100\n",
      "8/8 [==============================] - 0s 979us/step - loss: 107.1774 - mse: 107.1774\n",
      "Epoch 20/100\n",
      "8/8 [==============================] - 0s 1ms/step - loss: 95.7769 - mse: 95.7769\n",
      "Epoch 21/100\n",
      "8/8 [==============================] - 0s 927us/step - loss: 101.1916 - mse: 101.1916\n",
      "Epoch 22/100\n",
      "8/8 [==============================] - 0s 1ms/step - loss: 66.4631 - mse: 66.4631\n",
      "Epoch 23/100\n",
      "8/8 [==============================] - 0s 1ms/step - loss: 71.3403 - mse: 71.3403\n",
      "Epoch 24/100\n",
      "8/8 [==============================] - 0s 928us/step - loss: 90.0199 - mse: 90.0199\n",
      "Epoch 25/100\n",
      "8/8 [==============================] - 0s 893us/step - loss: 77.5418 - mse: 77.5418\n",
      "Epoch 26/100\n",
      "8/8 [==============================] - 0s 942us/step - loss: 88.0400 - mse: 88.0400\n",
      "Epoch 27/100\n",
      "8/8 [==============================] - 0s 958us/step - loss: 91.6547 - mse: 91.6547\n",
      "Epoch 28/100\n",
      "8/8 [==============================] - 0s 1ms/step - loss: 108.1576 - mse: 108.1576\n",
      "Epoch 29/100\n",
      "8/8 [==============================] - 0s 1ms/step - loss: 66.8488 - mse: 66.8488\n",
      "Epoch 30/100\n",
      "8/8 [==============================] - 0s 1ms/step - loss: 79.7230 - mse: 79.7230\n",
      "Epoch 31/100\n",
      "8/8 [==============================] - 0s 1ms/step - loss: 76.2198 - mse: 76.2198\n",
      "Epoch 32/100\n",
      "8/8 [==============================] - 0s 1ms/step - loss: 68.8727 - mse: 68.8727\n",
      "Epoch 33/100\n",
      "8/8 [==============================] - 0s 1ms/step - loss: 84.2290 - mse: 84.2290\n",
      "Epoch 34/100\n",
      "8/8 [==============================] - 0s 1ms/step - loss: 90.9598 - mse: 90.9598\n",
      "Epoch 35/100\n",
      "8/8 [==============================] - 0s 1ms/step - loss: 75.9659 - mse: 75.9659\n",
      "Epoch 36/100\n",
      "8/8 [==============================] - 0s 1ms/step - loss: 90.5429 - mse: 90.5429\n",
      "Epoch 37/100\n",
      "8/8 [==============================] - 0s 1ms/step - loss: 73.8873 - mse: 73.8873\n",
      "Epoch 38/100\n",
      "8/8 [==============================] - 0s 1ms/step - loss: 61.1716 - mse: 61.1716\n",
      "Epoch 39/100\n",
      "8/8 [==============================] - 0s 1ms/step - loss: 124.1490 - mse: 124.1490\n",
      "Epoch 40/100\n",
      "8/8 [==============================] - 0s 973us/step - loss: 84.7737 - mse: 84.7737\n",
      "Epoch 41/100\n",
      "8/8 [==============================] - 0s 976us/step - loss: 93.5422 - mse: 93.5422\n",
      "Epoch 42/100\n",
      "8/8 [==============================] - 0s 1ms/step - loss: 79.4434 - mse: 79.4434\n",
      "Epoch 43/100\n",
      "8/8 [==============================] - 0s 1ms/step - loss: 84.2790 - mse: 84.2790\n",
      "Epoch 44/100\n",
      "8/8 [==============================] - 0s 942us/step - loss: 73.0207 - mse: 73.0207\n",
      "Epoch 45/100\n",
      "8/8 [==============================] - 0s 927us/step - loss: 68.2556 - mse: 68.2556\n",
      "Epoch 46/100\n",
      "8/8 [==============================] - 0s 847us/step - loss: 107.3528 - mse: 107.3528\n",
      "Epoch 47/100\n",
      "8/8 [==============================] - 0s 1ms/step - loss: 116.0877 - mse: 116.0877\n",
      "Epoch 48/100\n",
      "8/8 [==============================] - 0s 837us/step - loss: 97.9462 - mse: 97.9462\n",
      "Epoch 49/100\n",
      "8/8 [==============================] - 0s 958us/step - loss: 93.8523 - mse: 93.8523\n",
      "Epoch 50/100\n",
      "8/8 [==============================] - 0s 948us/step - loss: 85.5247 - mse: 85.5247\n",
      "Epoch 51/100\n",
      "8/8 [==============================] - 0s 839us/step - loss: 86.9498 - mse: 86.9498\n",
      "Epoch 52/100\n",
      "8/8 [==============================] - 0s 852us/step - loss: 86.8658 - mse: 86.8658\n",
      "Epoch 53/100\n",
      "8/8 [==============================] - 0s 800us/step - loss: 77.4572 - mse: 77.4572\n",
      "Epoch 54/100\n",
      "8/8 [==============================] - 0s 869us/step - loss: 78.3104 - mse: 78.3104\n",
      "Epoch 55/100\n",
      "8/8 [==============================] - 0s 845us/step - loss: 95.5074 - mse: 95.5074\n",
      "Epoch 56/100\n",
      "8/8 [==============================] - 0s 902us/step - loss: 96.8023 - mse: 96.8023\n",
      "Epoch 57/100\n",
      "8/8 [==============================] - 0s 866us/step - loss: 80.5327 - mse: 80.5327\n",
      "Epoch 58/100\n",
      "8/8 [==============================] - 0s 762us/step - loss: 105.8055 - mse: 105.8055\n",
      "Epoch 59/100\n",
      "8/8 [==============================] - 0s 887us/step - loss: 79.4220 - mse: 79.4220\n",
      "Epoch 60/100\n",
      "8/8 [==============================] - 0s 880us/step - loss: 93.6235 - mse: 93.6235\n",
      "Epoch 61/100\n",
      "8/8 [==============================] - 0s 979us/step - loss: 73.6199 - mse: 73.6199\n",
      "Epoch 62/100\n",
      "8/8 [==============================] - 0s 920us/step - loss: 93.6139 - mse: 93.6139\n",
      "Epoch 63/100\n",
      "8/8 [==============================] - 0s 903us/step - loss: 79.6047 - mse: 79.6047\n",
      "Epoch 64/100\n",
      "8/8 [==============================] - 0s 998us/step - loss: 83.4392 - mse: 83.4392\n",
      "Epoch 65/100\n",
      "8/8 [==============================] - 0s 985us/step - loss: 97.6069 - mse: 97.6069\n",
      "Epoch 66/100\n",
      "8/8 [==============================] - 0s 1ms/step - loss: 78.1694 - mse: 78.1694\n",
      "Epoch 67/100\n",
      "8/8 [==============================] - 0s 1ms/step - loss: 112.4358 - mse: 112.4358\n",
      "Epoch 68/100\n",
      "8/8 [==============================] - 0s 1ms/step - loss: 94.8578 - mse: 94.8578\n",
      "Epoch 69/100\n",
      "8/8 [==============================] - 0s 1ms/step - loss: 86.1958 - mse: 86.1958\n",
      "Epoch 70/100\n",
      "8/8 [==============================] - 0s 1ms/step - loss: 68.3875 - mse: 68.3875\n",
      "Epoch 71/100\n",
      "8/8 [==============================] - 0s 933us/step - loss: 91.2368 - mse: 91.2368\n",
      "Epoch 72/100\n",
      "8/8 [==============================] - 0s 1ms/step - loss: 78.4214 - mse: 78.4214\n",
      "Epoch 73/100\n",
      "8/8 [==============================] - 0s 829us/step - loss: 75.8308 - mse: 75.8308\n",
      "Epoch 74/100\n",
      "8/8 [==============================] - 0s 922us/step - loss: 73.3405 - mse: 73.3405\n",
      "Epoch 75/100\n",
      "8/8 [==============================] - 0s 994us/step - loss: 86.3127 - mse: 86.3127\n",
      "Epoch 76/100\n",
      "8/8 [==============================] - 0s 1ms/step - loss: 85.0860 - mse: 85.0860\n",
      "Epoch 77/100\n",
      "8/8 [==============================] - 0s 1ms/step - loss: 97.8159 - mse: 97.8159\n",
      "Epoch 78/100\n",
      "8/8 [==============================] - 0s 1ms/step - loss: 79.6912 - mse: 79.6912\n",
      "Epoch 79/100\n",
      "8/8 [==============================] - 0s 1ms/step - loss: 81.1940 - mse: 81.1940\n",
      "Epoch 80/100\n",
      "8/8 [==============================] - 0s 910us/step - loss: 86.6300 - mse: 86.6300\n",
      "Epoch 81/100\n",
      "8/8 [==============================] - 0s 985us/step - loss: 74.2345 - mse: 74.2345\n",
      "Epoch 82/100\n",
      "8/8 [==============================] - 0s 981us/step - loss: 74.4574 - mse: 74.4574\n",
      "Epoch 83/100\n",
      "8/8 [==============================] - 0s 998us/step - loss: 94.6615 - mse: 94.6615\n",
      "Epoch 84/100\n",
      "8/8 [==============================] - 0s 898us/step - loss: 78.2504 - mse: 78.2504\n",
      "Epoch 85/100\n"
     ]
    },
    {
     "name": "stdout",
     "output_type": "stream",
     "text": [
      "8/8 [==============================] - 0s 1ms/step - loss: 80.1959 - mse: 80.1959\n",
      "Epoch 86/100\n",
      "8/8 [==============================] - 0s 923us/step - loss: 90.1371 - mse: 90.1371\n",
      "Epoch 87/100\n",
      "8/8 [==============================] - 0s 959us/step - loss: 62.7856 - mse: 62.7856\n",
      "Epoch 88/100\n",
      "8/8 [==============================] - 0s 887us/step - loss: 90.8364 - mse: 90.8364\n",
      "Epoch 89/100\n",
      "8/8 [==============================] - 0s 912us/step - loss: 81.2015 - mse: 81.2015\n",
      "Epoch 90/100\n",
      "8/8 [==============================] - 0s 941us/step - loss: 75.3480 - mse: 75.3480\n",
      "Epoch 91/100\n",
      "8/8 [==============================] - 0s 1ms/step - loss: 66.6220 - mse: 66.6220\n",
      "Epoch 92/100\n",
      "8/8 [==============================] - 0s 1ms/step - loss: 83.4339 - mse: 83.4339\n",
      "Epoch 93/100\n",
      "8/8 [==============================] - 0s 932us/step - loss: 75.9794 - mse: 75.9794\n",
      "Epoch 94/100\n",
      "8/8 [==============================] - 0s 1ms/step - loss: 94.1552 - mse: 94.1552\n",
      "Epoch 95/100\n",
      "8/8 [==============================] - 0s 1ms/step - loss: 71.9315 - mse: 71.9315\n",
      "Epoch 96/100\n",
      "8/8 [==============================] - 0s 1ms/step - loss: 69.4320 - mse: 69.4320\n",
      "Epoch 97/100\n",
      "8/8 [==============================] - 0s 959us/step - loss: 78.5677 - mse: 78.5677\n",
      "Epoch 98/100\n",
      "8/8 [==============================] - 0s 905us/step - loss: 92.0418 - mse: 92.0418\n",
      "Epoch 99/100\n",
      "8/8 [==============================] - 0s 973us/step - loss: 89.9446 - mse: 89.9446\n",
      "Epoch 100/100\n",
      "8/8 [==============================] - 0s 921us/step - loss: 101.4005 - mse: 101.4005\n"
     ]
    },
    {
     "data": {
      "text/plain": [
       "<tensorflow.python.keras.callbacks.History at 0x7fc188818a58>"
      ]
     },
     "execution_count": 10,
     "metadata": {},
     "output_type": "execute_result"
    }
   ],
   "source": [
    "model.fit(train_x, train_y, batch_size=10, epochs=100, shuffle=True)"
   ]
  },
  {
   "cell_type": "markdown",
   "metadata": {},
   "source": [
    "### Test"
   ]
  },
  {
   "cell_type": "code",
   "execution_count": 11,
   "metadata": {},
   "outputs": [],
   "source": [
    "y_pred = model.predict(test_x)"
   ]
  },
  {
   "cell_type": "code",
   "execution_count": 19,
   "metadata": {},
   "outputs": [
    {
     "data": {
      "text/plain": [
       "array([[  40.575356 ],\n",
       "       [  -4.985795 ],\n",
       "       [ -55.0875   ],\n",
       "       [  41.83931  ],\n",
       "       [  16.071228 ],\n",
       "       [  43.442204 ],\n",
       "       [-109.124344 ],\n",
       "       [  -7.6093845],\n",
       "       [  80.24505  ],\n",
       "       [  14.818714 ],\n",
       "       [  84.56613  ],\n",
       "       [ -59.20054  ],\n",
       "       [  93.92009  ],\n",
       "       [   1.6613989],\n",
       "       [ 146.18454  ],\n",
       "       [ -91.683    ],\n",
       "       [-109.52902  ],\n",
       "       [  56.40088  ],\n",
       "       [  11.427103 ],\n",
       "       [   1.8348618]], dtype=float32)"
      ]
     },
     "execution_count": 19,
     "metadata": {},
     "output_type": "execute_result"
    }
   ],
   "source": [
    "y_pred"
   ]
  },
  {
   "cell_type": "code",
   "execution_count": 20,
   "metadata": {},
   "outputs": [
    {
     "data": {
      "text/plain": [
       "Text(0.5, 1.0, 'Model test')"
      ]
     },
     "execution_count": 20,
     "metadata": {},
     "output_type": "execute_result"
    },
    {
     "data": {
      "image/png": "[encoded data removed]",
      "text/plain": [
       "<Figure size 432x288 with 1 Axes>"
      ]
     },
     "metadata": {
      "needs_background": "light"
     },
     "output_type": "display_data"
    }
   ],
   "source": [
    "#plt.figure(dpi=150)\n",
    "plt.plot(test_x, test_y,'.')\n",
    "plt.plot(test_x, y_pred,'r.')\n",
    "plt.legend(['actual', 'pred'])\n",
    "plt.title('Model test')"
   ]
  },
  {
   "cell_type": "markdown",
   "metadata": {},
   "source": [
    "### Weight / bias (advanced)"
   ]
  },
  {
   "cell_type": "code",
   "execution_count": 13,
   "metadata": {},
   "outputs": [
    {
     "data": {
      "text/plain": [
       "[array([[59.02175]], dtype=float32), array([10.894417], dtype=float32)]"
      ]
     },
     "execution_count": 13,
     "metadata": {},
     "output_type": "execute_result"
    }
   ],
   "source": [
    "model.layers[0].get_weights()"
   ]
  },
  {
   "cell_type": "code",
   "execution_count": 14,
   "metadata": {},
   "outputs": [],
   "source": [
    "w1 = model.layers[0].get_weights()[0]\n",
    "b1 = model.layers[0].get_weights()[1]"
   ]
  },
  {
   "cell_type": "code",
   "execution_count": 15,
   "metadata": {},
   "outputs": [],
   "source": [
    "w1 = w1[0]\n",
    "b1 = b1[0]"
   ]
  },
  {
   "cell_type": "code",
   "execution_count": 16,
   "metadata": {},
   "outputs": [],
   "source": [
    "y_pred2 = test_x * w1 + b1"
   ]
  },
  {
   "cell_type": "code",
   "execution_count": 17,
   "metadata": {},
   "outputs": [
    {
     "data": {
      "text/plain": [
       "<matplotlib.legend.Legend at 0x7fc18860b6d8>"
      ]
     },
     "execution_count": 17,
     "metadata": {},
     "output_type": "execute_result"
    },
    {
     "data": {
      "image/png": "[encoded data removed]",
      "text/plain": [
       "<Figure size 432x288 with 1 Axes>"
      ]
     },
     "metadata": {
      "needs_background": "light"
     },
     "output_type": "display_data"
    }
   ],
   "source": [
    "plt.plot(test_x, y_pred,'o')\n",
    "plt.plot(test_x, y_pred2,'*')\n",
    "plt.legend(['pred', 'pred (custom)'])"
   ]
  },
  {
   "cell_type": "code",
   "execution_count": 18,
   "metadata": {},
   "outputs": [
    {
     "data": {
      "text/plain": [
       "Text(0.5, 1.0, 'linear regression using keras')"
      ]
     },
     "execution_count": 18,
     "metadata": {},
     "output_type": "execute_result"
    },
    {
     "data": {
      "image/png": "[encoded data removed]",
      "text/plain": [
       "<Figure size 432x288 with 1 Axes>"
      ]
     },
     "metadata": {
      "needs_background": "light"
     },
     "output_type": "display_data"
    }
   ],
   "source": [
    "x1 = np.min(test_x)-1, np.max(test_x)+1\n",
    "y1 = w1 * x1 + b1\n",
    "#plt.figure(dpi=150)\n",
    "plt.plot(test_x, test_y,'o')\n",
    "plt.plot(x1, y1)\n",
    "plt.xlabel('x')\n",
    "plt.ylabel('y')\n",
    "plt.title('linear regression using keras')"
   ]
  },
  {
   "cell_type": "markdown",
   "metadata": {},
   "source": [
    "# References\n",
    "\n",
    "Simple Linear Regression with Tensorflow 2.0, https://ayoteralab.tistory.com/entry/Tensorflow-20-05-Simple-Linear-Regression-3 or https://archive.is/ya44R"
   ]
  }
 ],
 "metadata": {
  "kernelspec": {
   "display_name": "Python 3",
   "language": "python",
   "name": "python3"
  },
  "language_info": {
   "codemirror_mode": {
    "name": "ipython",
    "version": 3
   },
   "file_extension": ".py",
   "mimetype": "text/x-python",
   "name": "python",
   "nbconvert_exporter": "python",
   "pygments_lexer": "ipython3",
   "version": "3.6.8"
  }
 },
 "nbformat": 4,
 "nbformat_minor": 2
}

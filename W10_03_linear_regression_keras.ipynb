{
 "cells": [
  {
   "cell_type": "code",
   "execution_count": 1,
   "metadata": {
    "scrolled": true
   },
   "outputs": [
    {
     "name": "stdout",
     "output_type": "stream",
     "text": [
      "INFO:tensorflow:Enabling eager execution\n",
      "INFO:tensorflow:Enabling v2 tensorshape\n",
      "INFO:tensorflow:Enabling resource variables\n",
      "INFO:tensorflow:Enabling tensor equality\n",
      "INFO:tensorflow:Enabling control flow v2\n"
     ]
    }
   ],
   "source": [
    "from sklearn.datasets import make_regression\n",
    "import numpy as np\n",
    "import matplotlib.pyplot as plt\n",
    "\n",
    "import tensorflow as tf\n",
    "from tensorflow import keras"
   ]
  },
  {
   "cell_type": "markdown",
   "metadata": {},
   "source": [
    "### Data preparation"
   ]
  },
  {
   "cell_type": "code",
   "execution_count": 2,
   "metadata": {},
   "outputs": [
    {
     "name": "stdout",
     "output_type": "stream",
     "text": [
      "(100, 1)\n",
      "(100, 1)\n"
     ]
    }
   ],
   "source": [
    "X, y = make_regression(n_samples=100, n_features=1, bias=10.0, noise=10.0, random_state=2)\n",
    "y = np.expand_dims(y, axis=1)\n",
    "\n",
    "print(X.shape)\n",
    "print(y.shape)"
   ]
  },
  {
   "cell_type": "code",
   "execution_count": 3,
   "metadata": {},
   "outputs": [
    {
     "data": {
      "image/png": "[encoded data removed]",
      "text/plain": [
       "<Figure size 432x288 with 1 Axes>"
      ]
     },
     "metadata": {
      "needs_background": "light"
     },
     "output_type": "display_data"
    }
   ],
   "source": [
    "plt.scatter(X, y)\n",
    "plt.title('Generated data')\n",
    "plt.show()"
   ]
  },
  {
   "cell_type": "markdown",
   "metadata": {},
   "source": [
    "### Data split"
   ]
  },
  {
   "cell_type": "code",
   "execution_count": 4,
   "metadata": {},
   "outputs": [],
   "source": [
    "train_x = X[:80]\n",
    "test_x = X[80:]\n",
    "\n",
    "train_y = y[:80]\n",
    "test_y = y[80:]"
   ]
  },
  {
   "cell_type": "code",
   "execution_count": 5,
   "metadata": {},
   "outputs": [
    {
     "data": {
      "text/plain": [
       "(80, 1)"
      ]
     },
     "execution_count": 5,
     "metadata": {},
     "output_type": "execute_result"
    }
   ],
   "source": [
    "train_x.shape"
   ]
  },
  {
   "cell_type": "code",
   "execution_count": 6,
   "metadata": {},
   "outputs": [
    {
     "data": {
      "text/plain": [
       "(20, 1)"
      ]
     },
     "execution_count": 6,
     "metadata": {},
     "output_type": "execute_result"
    }
   ],
   "source": [
    "test_x.shape"
   ]
  },
  {
   "cell_type": "markdown",
   "metadata": {},
   "source": [
    "### Defining model"
   ]
  },
  {
   "cell_type": "code",
   "execution_count": 7,
   "metadata": {},
   "outputs": [],
   "source": [
    "model = tf.keras.Sequential()\n",
    "model.add(tf.keras.layers.Dense(1, activation='linear', input_shape=(1,)))"
   ]
  },
  {
   "cell_type": "code",
   "execution_count": 8,
   "metadata": {},
   "outputs": [
    {
     "name": "stdout",
     "output_type": "stream",
     "text": [
      "Model: \"sequential\"\n",
      "_________________________________________________________________\n",
      "Layer (type)                 Output Shape              Param #   \n",
      "=================================================================\n",
      "dense (Dense)                (None, 1)                 2         \n",
      "=================================================================\n",
      "Total params: 2\n",
      "Trainable params: 2\n",
      "Non-trainable params: 0\n",
      "_________________________________________________________________\n"
     ]
    }
   ],
   "source": [
    "model.summary()"
   ]
  },
  {
   "cell_type": "code",
   "execution_count": 9,
   "metadata": {},
   "outputs": [],
   "source": [
    "optimizer = tf.keras.optimizers.SGD(learning_rate=0.01)\n",
    "model.compile(loss='mse', optimizer=optimizer, metrics=['mse'])"
   ]
  },
  {
   "cell_type": "markdown",
   "metadata": {},
   "source": [
    "### Training"
   ]
  },
  {
   "cell_type": "code",
   "execution_count": 10,
   "metadata": {},
   "outputs": [
    {
     "name": "stdout",
     "output_type": "stream",
     "text": [
      "Epoch 1/100\n",
      "8/8 [==============================] - 0s 715us/step - loss: 3089.5731 - mse: 3089.5731\n",
      "Epoch 2/100\n",
      "8/8 [==============================] - 0s 1ms/step - loss: 2186.8746 - mse: 2186.8746\n",
      "Epoch 3/100\n",
      "8/8 [==============================] - 0s 1ms/step - loss: 2190.2327 - mse: 2190.2327\n",
      "Epoch 4/100\n",
      "8/8 [==============================] - 0s 788us/step - loss: 1337.9636 - mse: 1337.9636\n",
      "Epoch 5/100\n",
      "8/8 [==============================] - 0s 837us/step - loss: 1084.9545 - mse: 1084.9545\n",
      "Epoch 6/100\n",
      "8/8 [==============================] - 0s 973us/step - loss: 691.3956 - mse: 691.3956\n",
      "Epoch 7/100\n",
      "8/8 [==============================] - 0s 981us/step - loss: 548.6681 - mse: 548.6681\n",
      "Epoch 8/100\n",
      "8/8 [==============================] - 0s 817us/step - loss: 427.1973 - mse: 427.1973\n",
      "Epoch 9/100\n",
      "8/8 [==============================] - 0s 793us/step - loss: 301.3767 - mse: 301.3767\n",
      "Epoch 10/100\n",
      "8/8 [==============================] - 0s 923us/step - loss: 303.8791 - mse: 303.8791\n",
      "Epoch 11/100\n",
      "8/8 [==============================] - 0s 886us/step - loss: 187.8380 - mse: 187.8380\n",
      "Epoch 12/100\n",
      "8/8 [==============================] - 0s 778us/step - loss: 186.8068 - mse: 186.8068\n",
      "Epoch 13/100\n",
      "8/8 [==============================] - 0s 779us/step - loss: 143.4120 - mse: 143.4120\n",
      "Epoch 14/100\n",
      "8/8 [==============================] - 0s 823us/step - loss: 173.7499 - mse: 173.7499\n",
      "Epoch 15/100\n",
      "8/8 [==============================] - 0s 933us/step - loss: 111.8200 - mse: 111.8200\n",
      "Epoch 16/100\n",
      "8/8 [==============================] - 0s 956us/step - loss: 98.1052 - mse: 98.1052\n",
      "Epoch 17/100\n",
      "8/8 [==============================] - 0s 1ms/step - loss: 92.8224 - mse: 92.8224\n",
      "Epoch 18/100\n",
      "8/8 [==============================] - 0s 1ms/step - loss: 119.0451 - mse: 119.0451\n",
      "Epoch 19/100\n",
      "8/8 [==============================] - 0s 1ms/step - loss: 99.5080 - mse: 99.5080\n",
      "Epoch 20/100\n",
      "8/8 [==============================] - 0s 1ms/step - loss: 81.1915 - mse: 81.1915\n",
      "Epoch 21/100\n",
      "8/8 [==============================] - 0s 1ms/step - loss: 90.1196 - mse: 90.1196\n",
      "Epoch 22/100\n",
      "8/8 [==============================] - 0s 1ms/step - loss: 89.4487 - mse: 89.4487\n",
      "Epoch 23/100\n",
      "8/8 [==============================] - 0s 1ms/step - loss: 79.5151 - mse: 79.5151\n",
      "Epoch 24/100\n",
      "8/8 [==============================] - 0s 1ms/step - loss: 99.9108 - mse: 99.9108\n",
      "Epoch 25/100\n",
      "8/8 [==============================] - 0s 1ms/step - loss: 84.3183 - mse: 84.3183\n",
      "Epoch 26/100\n",
      "8/8 [==============================] - 0s 947us/step - loss: 85.3480 - mse: 85.3480\n",
      "Epoch 27/100\n",
      "8/8 [==============================] - 0s 1ms/step - loss: 107.8586 - mse: 107.8586\n",
      "Epoch 28/100\n",
      "8/8 [==============================] - 0s 1ms/step - loss: 100.2695 - mse: 100.2695\n",
      "Epoch 29/100\n",
      "8/8 [==============================] - 0s 1ms/step - loss: 100.1741 - mse: 100.1741\n",
      "Epoch 30/100\n",
      "8/8 [==============================] - 0s 889us/step - loss: 78.6352 - mse: 78.6352\n",
      "Epoch 31/100\n",
      "8/8 [==============================] - 0s 961us/step - loss: 105.5595 - mse: 105.5595\n",
      "Epoch 32/100\n",
      "8/8 [==============================] - 0s 1ms/step - loss: 95.7559 - mse: 95.7559\n",
      "Epoch 33/100\n",
      "8/8 [==============================] - 0s 1ms/step - loss: 82.0568 - mse: 82.0568\n",
      "Epoch 34/100\n",
      "8/8 [==============================] - 0s 1ms/step - loss: 86.4805 - mse: 86.4805\n",
      "Epoch 35/100\n",
      "8/8 [==============================] - 0s 1ms/step - loss: 104.8173 - mse: 104.8173\n",
      "Epoch 36/100\n",
      "8/8 [==============================] - 0s 1ms/step - loss: 93.9643 - mse: 93.9643\n",
      "Epoch 37/100\n",
      "8/8 [==============================] - 0s 1ms/step - loss: 70.7167 - mse: 70.7167\n",
      "Epoch 38/100\n",
      "8/8 [==============================] - 0s 1ms/step - loss: 71.5180 - mse: 71.5180\n",
      "Epoch 39/100\n",
      "8/8 [==============================] - 0s 978us/step - loss: 76.6883 - mse: 76.6883\n",
      "Epoch 40/100\n",
      "8/8 [==============================] - 0s 803us/step - loss: 94.8457 - mse: 94.8457\n",
      "Epoch 41/100\n",
      "8/8 [==============================] - 0s 920us/step - loss: 77.2661 - mse: 77.2661\n",
      "Epoch 42/100\n",
      "8/8 [==============================] - 0s 917us/step - loss: 89.9967 - mse: 89.9967\n",
      "Epoch 43/100\n",
      "8/8 [==============================] - 0s 959us/step - loss: 86.4683 - mse: 86.4683\n",
      "Epoch 44/100\n",
      "8/8 [==============================] - 0s 934us/step - loss: 86.9378 - mse: 86.9378\n",
      "Epoch 45/100\n",
      "8/8 [==============================] - 0s 970us/step - loss: 101.5537 - mse: 101.5537\n",
      "Epoch 46/100\n",
      "8/8 [==============================] - 0s 953us/step - loss: 69.8194 - mse: 69.8194\n",
      "Epoch 47/100\n",
      "8/8 [==============================] - 0s 964us/step - loss: 111.0194 - mse: 111.0194\n",
      "Epoch 48/100\n",
      "8/8 [==============================] - 0s 1ms/step - loss: 60.9319 - mse: 60.9319\n",
      "Epoch 49/100\n",
      "8/8 [==============================] - 0s 1ms/step - loss: 99.6631 - mse: 99.6631\n",
      "Epoch 50/100\n",
      "8/8 [==============================] - 0s 1ms/step - loss: 101.7611 - mse: 101.7611\n",
      "Epoch 51/100\n",
      "8/8 [==============================] - 0s 952us/step - loss: 78.1990 - mse: 78.1990\n",
      "Epoch 52/100\n",
      "8/8 [==============================] - 0s 722us/step - loss: 77.1137 - mse: 77.1137\n",
      "Epoch 53/100\n",
      "8/8 [==============================] - 0s 790us/step - loss: 79.4448 - mse: 79.4448\n",
      "Epoch 54/100\n",
      "8/8 [==============================] - 0s 1ms/step - loss: 108.9870 - mse: 108.9870\n",
      "Epoch 55/100\n",
      "8/8 [==============================] - 0s 901us/step - loss: 96.1503 - mse: 96.1503\n",
      "Epoch 56/100\n",
      "8/8 [==============================] - 0s 1ms/step - loss: 71.5986 - mse: 71.5986\n",
      "Epoch 57/100\n",
      "8/8 [==============================] - 0s 1ms/step - loss: 80.5413 - mse: 80.5413\n",
      "Epoch 58/100\n",
      "8/8 [==============================] - 0s 921us/step - loss: 95.1469 - mse: 95.1469\n",
      "Epoch 59/100\n",
      "8/8 [==============================] - 0s 1ms/step - loss: 109.8879 - mse: 109.8879\n",
      "Epoch 60/100\n",
      "8/8 [==============================] - 0s 1ms/step - loss: 98.0568 - mse: 98.0568\n",
      "Epoch 61/100\n",
      "8/8 [==============================] - 0s 903us/step - loss: 89.2316 - mse: 89.2316\n",
      "Epoch 62/100\n",
      "8/8 [==============================] - 0s 843us/step - loss: 77.9147 - mse: 77.9147\n",
      "Epoch 63/100\n",
      "8/8 [==============================] - 0s 884us/step - loss: 77.5479 - mse: 77.5479\n",
      "Epoch 64/100\n",
      "8/8 [==============================] - 0s 849us/step - loss: 94.4820 - mse: 94.4820\n",
      "Epoch 65/100\n",
      "8/8 [==============================] - 0s 961us/step - loss: 86.3795 - mse: 86.3795\n",
      "Epoch 66/100\n",
      "8/8 [==============================] - 0s 899us/step - loss: 93.9186 - mse: 93.9186\n",
      "Epoch 67/100\n",
      "8/8 [==============================] - 0s 877us/step - loss: 86.8467 - mse: 86.8467\n",
      "Epoch 68/100\n",
      "8/8 [==============================] - 0s 1ms/step - loss: 105.7040 - mse: 105.7040\n",
      "Epoch 69/100\n",
      "8/8 [==============================] - 0s 1ms/step - loss: 88.3988 - mse: 88.3988\n",
      "Epoch 70/100\n",
      "8/8 [==============================] - 0s 1ms/step - loss: 84.0164 - mse: 84.0164\n",
      "Epoch 71/100\n",
      "8/8 [==============================] - 0s 1ms/step - loss: 79.9405 - mse: 79.9405\n",
      "Epoch 72/100\n",
      "8/8 [==============================] - 0s 811us/step - loss: 74.0982 - mse: 74.0982\n",
      "Epoch 73/100\n",
      "8/8 [==============================] - 0s 923us/step - loss: 88.6053 - mse: 88.6053\n",
      "Epoch 74/100\n",
      "8/8 [==============================] - 0s 819us/step - loss: 84.7963 - mse: 84.7963\n",
      "Epoch 75/100\n",
      "8/8 [==============================] - 0s 1ms/step - loss: 80.0210 - mse: 80.0210\n",
      "Epoch 76/100\n",
      "8/8 [==============================] - 0s 788us/step - loss: 78.4537 - mse: 78.4537\n",
      "Epoch 77/100\n",
      "8/8 [==============================] - 0s 809us/step - loss: 97.5311 - mse: 97.5311\n",
      "Epoch 78/100\n",
      "8/8 [==============================] - 0s 987us/step - loss: 87.4875 - mse: 87.4875\n",
      "Epoch 79/100\n",
      "8/8 [==============================] - 0s 926us/step - loss: 75.5324 - mse: 75.5324\n",
      "Epoch 80/100\n",
      "8/8 [==============================] - 0s 975us/step - loss: 99.0782 - mse: 99.0782\n",
      "Epoch 81/100\n",
      "8/8 [==============================] - 0s 973us/step - loss: 88.5635 - mse: 88.5635\n",
      "Epoch 82/100\n",
      "8/8 [==============================] - 0s 1ms/step - loss: 81.8302 - mse: 81.8302\n",
      "Epoch 83/100\n",
      "8/8 [==============================] - 0s 1ms/step - loss: 58.1345 - mse: 58.1345\n",
      "Epoch 84/100\n",
      "8/8 [==============================] - 0s 1ms/step - loss: 70.2959 - mse: 70.2959\n",
      "Epoch 85/100\n"
     ]
    },
    {
     "name": "stdout",
     "output_type": "stream",
     "text": [
      "8/8 [==============================] - 0s 1ms/step - loss: 56.0241 - mse: 56.0241\n",
      "Epoch 86/100\n",
      "8/8 [==============================] - 0s 1ms/step - loss: 90.3569 - mse: 90.3568\n",
      "Epoch 87/100\n",
      "8/8 [==============================] - 0s 845us/step - loss: 86.7663 - mse: 86.7663\n",
      "Epoch 88/100\n",
      "8/8 [==============================] - 0s 1ms/step - loss: 82.4699 - mse: 82.4699\n",
      "Epoch 89/100\n",
      "8/8 [==============================] - 0s 930us/step - loss: 85.9371 - mse: 85.9371\n",
      "Epoch 90/100\n",
      "8/8 [==============================] - 0s 968us/step - loss: 82.1432 - mse: 82.1432\n",
      "Epoch 91/100\n",
      "8/8 [==============================] - 0s 1ms/step - loss: 84.4519 - mse: 84.4519\n",
      "Epoch 92/100\n",
      "8/8 [==============================] - 0s 1ms/step - loss: 93.9051 - mse: 93.9051\n",
      "Epoch 93/100\n",
      "8/8 [==============================] - 0s 944us/step - loss: 79.6396 - mse: 79.6396\n",
      "Epoch 94/100\n",
      "8/8 [==============================] - 0s 912us/step - loss: 108.7023 - mse: 108.7023\n",
      "Epoch 95/100\n",
      "8/8 [==============================] - 0s 857us/step - loss: 80.6668 - mse: 80.6668\n",
      "Epoch 96/100\n",
      "8/8 [==============================] - 0s 944us/step - loss: 61.7918 - mse: 61.7918\n",
      "Epoch 97/100\n",
      "8/8 [==============================] - 0s 1ms/step - loss: 107.5722 - mse: 107.5722\n",
      "Epoch 98/100\n",
      "8/8 [==============================] - 0s 1ms/step - loss: 87.1018 - mse: 87.1018\n",
      "Epoch 99/100\n",
      "8/8 [==============================] - 0s 971us/step - loss: 78.7022 - mse: 78.7022\n",
      "Epoch 100/100\n",
      "8/8 [==============================] - 0s 971us/step - loss: 74.1800 - mse: 74.1800\n"
     ]
    },
    {
     "data": {
      "text/plain": [
       "<tensorflow.python.keras.callbacks.History at 0x7f26ae44c9b0>"
      ]
     },
     "execution_count": 10,
     "metadata": {},
     "output_type": "execute_result"
    }
   ],
   "source": [
    "model.fit(train_x, train_y, batch_size=10, epochs=100, shuffle=True)"
   ]
  },
  {
   "cell_type": "markdown",
   "metadata": {},
   "source": [
    "### Test"
   ]
  },
  {
   "cell_type": "code",
   "execution_count": 11,
   "metadata": {},
   "outputs": [],
   "source": [
    "y_pred = model.predict(test_x)"
   ]
  },
  {
   "cell_type": "code",
   "execution_count": 12,
   "metadata": {},
   "outputs": [
    {
     "data": {
      "text/plain": [
       "Text(0.5, 1.0, 'Model test')"
      ]
     },
     "execution_count": 12,
     "metadata": {},
     "output_type": "execute_result"
    },
    {
     "data": {
      "image/png": "[encoded data removed]",
      "text/plain": [
       "<Figure size 432x288 with 1 Axes>"
      ]
     },
     "metadata": {
      "needs_background": "light"
     },
     "output_type": "display_data"
    }
   ],
   "source": [
    "plt.plot(test_x, test_y,'.')\n",
    "plt.plot(test_x, y_pred,'r.')\n",
    "plt.legend(['pred', 'actual'])\n",
    "plt.title('Model test')"
   ]
  },
  {
   "cell_type": "markdown",
   "metadata": {},
   "source": [
    "### Weight / bias (advanced)"
   ]
  },
  {
   "cell_type": "code",
   "execution_count": 13,
   "metadata": {},
   "outputs": [
    {
     "data": {
      "text/plain": [
       "[array([[59.013767]], dtype=float32), array([10.911439], dtype=float32)]"
      ]
     },
     "execution_count": 13,
     "metadata": {},
     "output_type": "execute_result"
    }
   ],
   "source": [
    "model.layers[0].get_weights()"
   ]
  },
  {
   "cell_type": "code",
   "execution_count": 14,
   "metadata": {},
   "outputs": [],
   "source": [
    "w1 = model.layers[0].get_weights()[0]\n",
    "b1 = model.layers[0].get_weights()[1]"
   ]
  },
  {
   "cell_type": "code",
   "execution_count": 15,
   "metadata": {},
   "outputs": [],
   "source": [
    "w1 = w1[0]\n",
    "b1 = b1[0]"
   ]
  },
  {
   "cell_type": "code",
   "execution_count": 16,
   "metadata": {},
   "outputs": [],
   "source": [
    "y_pred2 = test_x * w1 + b1"
   ]
  },
  {
   "cell_type": "code",
   "execution_count": 17,
   "metadata": {},
   "outputs": [
    {
     "data": {
      "text/plain": [
       "<matplotlib.legend.Legend at 0x7f26ac23c668>"
      ]
     },
     "execution_count": 17,
     "metadata": {},
     "output_type": "execute_result"
    },
    {
     "data": {
      "image/png": "[encoded data removed]",
      "text/plain": [
       "<Figure size 432x288 with 1 Axes>"
      ]
     },
     "metadata": {
      "needs_background": "light"
     },
     "output_type": "display_data"
    }
   ],
   "source": [
    "plt.plot(test_x, y_pred,'o')\n",
    "plt.plot(test_x, y_pred2,'*')\n",
    "plt.legend(['pred', 'pred (custom)'])"
   ]
  },
  {
   "cell_type": "code",
   "execution_count": 18,
   "metadata": {},
   "outputs": [
    {
     "data": {
      "text/plain": [
       "Text(0.5, 1.0, 'linear regression using keras')"
      ]
     },
     "execution_count": 18,
     "metadata": {},
     "output_type": "execute_result"
    },
    {
     "data": {
      "image/png": "[encoded data removed]",
      "text/plain": [
       "<Figure size 432x288 with 1 Axes>"
      ]
     },
     "metadata": {
      "needs_background": "light"
     },
     "output_type": "display_data"
    }
   ],
   "source": [
    "x1 = np.min(test_x)-1, np.max(test_x)+1\n",
    "y1 = w1 * x1 + b1\n",
    "\n",
    "plt.plot(test_x, test_y,'o')\n",
    "plt.plot(x1, y1)\n",
    "plt.xlabel('x')\n",
    "plt.xlabel('y')\n",
    "plt.title('linear regression using keras')"
   ]
  },
  {
   "cell_type": "markdown",
   "metadata": {},
   "source": [
    "# References\n",
    "\n",
    "Simple Linear Regression with Tensorflow 2.0, https://ayoteralab.tistory.com/entry/Tensorflow-20-05-Simple-Linear-Regression-3 or https://archive.is/ya44R"
   ]
  }
 ],
 "metadata": {
  "kernelspec": {
   "display_name": "Python 3",
   "language": "python",
   "name": "python3"
  },
  "language_info": {
   "codemirror_mode": {
    "name": "ipython",
    "version": 3
   },
   "file_extension": ".py",
   "mimetype": "text/x-python",
   "name": "python",
   "nbconvert_exporter": "python",
   "pygments_lexer": "ipython3",
   "version": "3.6.8"
  }
 },
 "nbformat": 4,
 "nbformat_minor": 2
}

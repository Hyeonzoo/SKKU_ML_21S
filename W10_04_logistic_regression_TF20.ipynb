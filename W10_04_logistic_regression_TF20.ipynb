{
 "cells": [
  {
   "cell_type": "markdown",
   "metadata": {},
   "source": [
    "## Logistic Regression with Tensorflow 2.0"
   ]
  },
  {
   "cell_type": "code",
   "execution_count": 1,
   "metadata": {},
   "outputs": [
    {
     "name": "stdout",
     "output_type": "stream",
     "text": [
      "2.3.0\n"
     ]
    }
   ],
   "source": [
    "#import tensorflow as tf\n",
    "import tensorflow as tf\n",
    "\n",
    "print(tf.__version__)"
   ]
  },
  {
   "cell_type": "code",
   "execution_count": 2,
   "metadata": {},
   "outputs": [],
   "source": [
    "import numpy as np\n",
    "import matplotlib.pyplot as plt"
   ]
  },
  {
   "cell_type": "markdown",
   "metadata": {},
   "source": [
    "### Data preparation"
   ]
  },
  {
   "cell_type": "markdown",
   "metadata": {},
   "source": [
    "연속형 데이터를 linear regression에 적용했다면 범주형 데이터는 logitic regression에 적용 가능"
   ]
  },
  {
   "cell_type": "code",
   "execution_count": 3,
   "metadata": {},
   "outputs": [],
   "source": [
    "train_x = [[1,1],[1,3],[2,2],[2,4],[3,1],[3,3],[4,2],[4,4],[5,7],[5,9],[6,6],[6,8],[7,7],[7,9],[8,6],[8,8]]\n",
    "train_y = [[0],[0],[0],[0],[0],[0],[0],[0],[1],[1],[1],[1],[1],[1],[1],[1]]\n",
    "\n",
    "train_x = np.array(train_x)\n",
    "train_y = np.array(train_y)\n",
    "\n",
    "# 데이터의 형태를 float32 형태로 넣기 위함\n",
    "train_x = train_x.astype('float32')\n",
    "train_y = train_y.astype('float32')"
   ]
  },
  {
   "cell_type": "code",
   "execution_count": 4,
   "metadata": {},
   "outputs": [
    {
     "name": "stdout",
     "output_type": "stream",
     "text": [
      "(16, 2)\n",
      "(16, 1)\n"
     ]
    }
   ],
   "source": [
    "print(train_x.shape)\n",
    "print(train_y.shape)"
   ]
  },
  {
   "cell_type": "code",
   "execution_count": 5,
   "metadata": {},
   "outputs": [
    {
     "data": {
      "image/png": "[encoded data removed]",
      "text/plain": [
       "<Figure size 432x288 with 1 Axes>"
      ]
     },
     "metadata": {
      "needs_background": "light"
     },
     "output_type": "display_data"
    }
   ],
   "source": [
    "# 그래프 위에 나타내보기\n",
    "plt.scatter(train_x[:,0:1], train_x[:,1:2], c=train_y)\n",
    "plt.show()"
   ]
  },
  {
   "cell_type": "markdown",
   "metadata": {},
   "source": [
    "### Logistic Regression"
   ]
  },
  {
   "cell_type": "code",
   "execution_count": 6,
   "metadata": {},
   "outputs": [],
   "source": [
    "class LogisticWithTF():\n",
    "    def __init__(self):\n",
    "        self.epochs = 1000\n",
    "        self.learning_rate = 0.17\n",
    "        #TensoFlow v2에서는 tf.placeholder API가 삭제되고 지정된 함수에 값을 직접 넘겨주게 된다.\n",
    "        self.w = tf.Variable(tf.random.normal(shape=[2,1], dtype=tf.float32))\n",
    "        self.b = tf.Variable(tf.random.normal(shape=[1], dtype=tf.float32))\n",
    "        \n",
    "        \n",
    "    #train_on_batch( ) : batch단위로 학습할 메인 모델을 정의\n",
    "    #텐서플로는 자동 미분(주어진 입력 변수에 대한 연산의 그래디언트(gradient)를 계산하는 것)을 위한 tf.GradientTape API를 제공\n",
    "    def train_on_batch(self, x, y):\n",
    "        with tf.GradientTape() as tape:\n",
    "            # sigmoid function 은 우리의 가설\n",
    "            logit = tf.matmul(x, self.w) + self.b\n",
    "            hypothesis = tf.sigmoid(logit)\n",
    "            eps = 1e-10\n",
    "            #오차함수\n",
    "            loss = -tf.reduce_mean(y*tf.math.log(hypothesis+eps) + (1-y)*tf.math.log(1-hypothesis+eps))\n",
    "            \n",
    "        #gradient => cost를 minimize시키는 W,b를 찾는 대표적인 알고리즘 중 하나\n",
    "        #tape.gradient를 호출해서 W와 b의 경사도(미분값)을 각각 기록하여 튜플로 반환 \n",
    "        loss_dw, loss_db = tape.gradient(loss, [self.w, self.b])\n",
    "        \n",
    "        #assign_sub(-=연산)을 가져와 W와 b를 각각 업데이트\n",
    "        self.w.assign_sub(self.learning_rate * loss_dw)\n",
    "        self.b.assign_sub(self.learning_rate * loss_db)\n",
    "\n",
    "        return loss\n",
    "\n",
    "    #fitModel( ) : train_x, train_y를 가지고 model을 학습하는 메서드\n",
    "    def fitModel(self, x, y):\n",
    "        #tf.data.Dataset.from_tensor_slices => tf.data.Dataset 를 생성하는 함수로 입력된 텐서로부터 slices를 생성\n",
    "        dataset = tf.data.Dataset.from_tensor_slices((x, y))\n",
    "        dataset = dataset.shuffle(buffer_size=16).batch(8)\n",
    "\n",
    "        loss_mem = []\n",
    "\n",
    "        for e in range(self.epochs):\n",
    "            for step, (x,y) in enumerate(dataset):\n",
    "                loss = self.train_on_batch(x,y)\n",
    "            loss_mem.append(loss)\n",
    "        return loss_mem\n",
    "\n",
    "    #predictModel( ) : train_x를 가지고 학습된 model의 결과에 적용해서 label을 도출하는 메서드\n",
    "    def predictModel(self, x):\n",
    "        logit = tf.matmul(x, self.w) + self.b\n",
    "        hypothesis = tf.sigmoid(logit)\n",
    "        return hypothesis\n",
    "\n",
    "    #evalModel( ) : test_x, test_y를 가지고 학습된 model에 적용해서 res_y를 구하고 이를 test_y와 비교한 정확도 도출\n",
    "    def evalModel(self, x, y):\n",
    "        logit = tf.matmul(x, self.w) + self.b\n",
    "        hypothesis = tf.sigmoid(logit)\n",
    "\n",
    "        res_y = np.round(hypothesis, 0)\n",
    "        accuracy = np.sum(res_y == y) / len(y)\n",
    "        return accuracy, res_y"
   ]
  },
  {
   "cell_type": "markdown",
   "metadata": {},
   "source": [
    "### Train"
   ]
  },
  {
   "cell_type": "code",
   "execution_count": 7,
   "metadata": {},
   "outputs": [],
   "source": [
    "model = LogisticWithTF()\n",
    "loss_mem = model.fitModel(train_x, train_y)"
   ]
  },
  {
   "cell_type": "code",
   "execution_count": 8,
   "metadata": {},
   "outputs": [
    {
     "data": {
      "image/png": "[encoded data removed]",
      "text/plain": [
       "<Figure size 432x288 with 1 Axes>"
      ]
     },
     "metadata": {
      "needs_background": "light"
     },
     "output_type": "display_data"
    }
   ],
   "source": [
    "epochs_x = list(range(len(loss_mem)))\n",
    "plt.plot(epochs_x, loss_mem)\n",
    "plt.xlabel('epoch')\n",
    "plt.ylabel('loss')\n",
    "plt.show()"
   ]
  },
  {
   "cell_type": "code",
   "execution_count": 9,
   "metadata": {},
   "outputs": [],
   "source": [
    "res_y = model.predictModel(train_x)"
   ]
  },
  {
   "cell_type": "code",
   "execution_count": 14,
   "metadata": {},
   "outputs": [
    {
     "data": {
      "image/png": "[encoded data removed]",
      "text/plain": [
       "<Figure size 432x288 with 1 Axes>"
      ]
     },
     "metadata": {
      "needs_background": "light"
     },
     "output_type": "display_data"
    }
   ],
   "source": [
    "plt.scatter(train_x[:,0:1], train_x[:,1:2], c=res_y)\n",
    "plt.show()"
   ]
  },
  {
   "cell_type": "code",
   "execution_count": 19,
   "metadata": {},
   "outputs": [
    {
     "name": "stdout",
     "output_type": "stream",
     "text": [
      "train_x --> predict(예측값) --> train_y(정답)\n",
      "[1. 1.] --> [0.00067678] --> [0.]\n",
      "[1. 3.] --> [0.00802132] --> [0.]\n",
      "[2. 2.] --> [0.00468194] --> [0.]\n",
      "[2. 4.] --> [0.0531795] --> [0.]\n",
      "[3. 1.] --> [0.00272903] --> [0.]\n",
      "[3. 3.] --> [0.03163987] --> [0.]\n",
      "[4. 2.] --> [0.01865274] --> [0.]\n",
      "[4. 4.] --> [0.18497157] --> [0.]\n",
      "[5. 7.] --> [0.9495522] --> [1.]\n",
      "[5. 9.] --> [0.99557024] --> [1.]\n",
      "[6. 6.] --> [0.91631544] --> [1.]\n",
      "[6. 8.] --> [0.9924093] --> [1.]\n",
      "[7. 7.] --> [0.9870224] --> [1.]\n",
      "[7. 9.] --> [0.99890006] --> [1.]\n",
      "[8. 6.] --> [0.97789764] --> [1.]\n",
      "[8. 8.] --> [0.9981107] --> [1.]\n"
     ]
    }
   ],
   "source": [
    "print('train_x --> predict(예측값) --> train_y(정답)')\n",
    "for i in range(len(res_y)):\n",
    "    print(train_x[i],'-->', res_y.numpy()[i],'-->' ,train_y[i])"
   ]
  },
  {
   "cell_type": "markdown",
   "metadata": {},
   "source": [
    "### Test"
   ]
  },
  {
   "cell_type": "code",
   "execution_count": 11,
   "metadata": {},
   "outputs": [
    {
     "name": "stdout",
     "output_type": "stream",
     "text": [
      "1.0\n"
     ]
    }
   ],
   "source": [
    "test_x = [[2,3],[3,2],[6,9],[7,8],[8,7]]\n",
    "test_y = [[0],[0],[1],[1],[1]]\n",
    "\n",
    "test_x = np.array(test_x, dtype=np.float32)\n",
    "test_y = np.array(test_y, dtype=np.float32)"
   ]
  },
  {
   "cell_type": "code",
   "execution_count": 20,
   "metadata": {},
   "outputs": [
    {
     "name": "stdout",
     "output_type": "stream",
     "text": [
      "1.0\n"
     ]
    }
   ],
   "source": [
    "accuracy, res = model.evalModel(test_x, test_y)\n",
    "print(accuracy)"
   ]
  },
  {
   "cell_type": "code",
   "execution_count": 21,
   "metadata": {},
   "outputs": [
    {
     "name": "stdout",
     "output_type": "stream",
     "text": [
      "[[0.]\n",
      " [0.]\n",
      " [1.]\n",
      " [1.]\n",
      " [1.]]\n"
     ]
    }
   ],
   "source": [
    "print(res)"
   ]
  },
  {
   "cell_type": "code",
   "execution_count": 13,
   "metadata": {},
   "outputs": [
    {
     "data": {
      "image/png": "[encoded data removed]",
      "text/plain": [
       "<Figure size 432x288 with 1 Axes>"
      ]
     },
     "metadata": {
      "needs_background": "light"
     },
     "output_type": "display_data"
    }
   ],
   "source": [
    "plt.scatter(test_x[:,0:1], test_x[:,1:2], c=res)\n",
    "plt.show()"
   ]
  }
 ],
 "metadata": {
  "kernelspec": {
   "display_name": "Python 3",
   "language": "python",
   "name": "python3"
  },
  "language_info": {
   "codemirror_mode": {
    "name": "ipython",
    "version": 3
   },
   "file_extension": ".py",
   "mimetype": "text/x-python",
   "name": "python",
   "nbconvert_exporter": "python",
   "pygments_lexer": "ipython3",
   "version": "3.6.9"
  }
 },
 "nbformat": 4,
 "nbformat_minor": 4
}

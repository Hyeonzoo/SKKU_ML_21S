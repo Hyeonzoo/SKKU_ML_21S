{
 "cells": [
  {
   "cell_type": "markdown",
   "metadata": {
    "colab_type": "text",
    "id": "rT5cusszZF1o"
   },
   "source": [
    "# Linear Regression with Tensorflow"
   ]
  },
  {
   "cell_type": "code",
   "execution_count": 24,
   "metadata": {
    "colab": {
     "base_uri": "https://localhost:8080/",
     "height": 90
    },
    "colab_type": "code",
    "id": "ID6bcOJXZF1p",
    "outputId": "dbcea255-0b65-4259-ab0a-4ff47516fa82"
   },
   "outputs": [
    {
     "name": "stdout",
     "output_type": "stream",
     "text": [
      "INFO:tensorflow:Disabling eager execution\n",
      "INFO:tensorflow:Disabling v2 tensorshape\n",
      "INFO:tensorflow:Disabling resource variables\n",
      "INFO:tensorflow:Disabling tensor equality\n",
      "INFO:tensorflow:Disabling control flow v2\n"
     ]
    }
   ],
   "source": [
    "#import tensorflow as tf\n",
    "import tensorflow.compat.v1 as tf\n",
    "tf.disable_v2_behavior()"
   ]
  },
  {
   "cell_type": "code",
   "execution_count": 2,
   "metadata": {
    "colab": {},
    "colab_type": "code",
    "id": "c_izUdvUaDTy"
   },
   "outputs": [],
   "source": [
    "import numpy as np\n",
    "import matplotlib.pyplot as plt"
   ]
  },
  {
   "cell_type": "markdown",
   "metadata": {},
   "source": [
    "### Data preparation"
   ]
  },
  {
   "cell_type": "code",
   "execution_count": 3,
   "metadata": {
    "colab": {},
    "colab_type": "code",
    "id": "lTLcPkZOZF1t"
   },
   "outputs": [],
   "source": [
    "x_train = [1, 2, 3]"
   ]
  },
  {
   "cell_type": "code",
   "execution_count": 4,
   "metadata": {
    "colab": {},
    "colab_type": "code",
    "id": "jmFiYbMWZF1w"
   },
   "outputs": [],
   "source": [
    "y_train = [2+1 +0.1, 4+1 -0.2, 6+1 +0.15] # adjust the noises !"
   ]
  },
  {
   "cell_type": "code",
   "execution_count": 5,
   "metadata": {
    "colab": {
     "base_uri": "https://localhost:8080/",
     "height": 296
    },
    "colab_type": "code",
    "id": "YwIYr9cQZF1z",
    "outputId": "9f4b238e-ec69-4e21-94ae-a73463ea4d1b"
   },
   "outputs": [
    {
     "data": {
      "text/plain": [
       "Text(0, 0.5, 'Y')"
      ]
     },
     "execution_count": 5,
     "metadata": {},
     "output_type": "execute_result"
    },
    {
     "data": {
      "image/png": "[encoded data removed]",
      "text/plain": [
       "<Figure size 432x288 with 1 Axes>"
      ]
     },
     "metadata": {
      "needs_background": "light"
     },
     "output_type": "display_data"
    }
   ],
   "source": [
    "plt.plot(x_train, y_train,'.-')\n",
    "plt.xlabel('X')\n",
    "plt.ylabel('Y')"
   ]
  },
  {
   "cell_type": "markdown",
   "metadata": {
    "colab_type": "text",
    "id": "0A2Hw4nxxGon"
   },
   "source": [
    "$$ y = 2x +1$$\n",
    "\n",
    "$$ y = wx + b $$"
   ]
  },
  {
   "cell_type": "markdown",
   "metadata": {
    "colab_type": "text",
    "id": "1VDfl9W7ZF12"
   },
   "source": [
    "### Initialization  (초기화)"
   ]
  },
  {
   "cell_type": "code",
   "execution_count": 6,
   "metadata": {
    "colab": {},
    "colab_type": "code",
    "id": "DlPpSEXCZF12"
   },
   "outputs": [],
   "source": [
    "w0 = 7; #바꾸어보세요\n",
    "b0 = -10; #바꾸어보세요"
   ]
  },
  {
   "cell_type": "code",
   "execution_count": 7,
   "metadata": {
    "colab": {},
    "colab_type": "code",
    "id": "DVGVY8dgZF15"
   },
   "outputs": [],
   "source": [
    "W = tf.Variable(w0*tf.ones([1]), name='weight')\n",
    "b = tf.Variable(b0*tf.ones([1]), name='bias')"
   ]
  },
  {
   "cell_type": "markdown",
   "metadata": {
    "colab_type": "text",
    "id": "yQg-zNtKZF17"
   },
   "source": [
    "### Our hypothesis XW+b"
   ]
  },
  {
   "cell_type": "code",
   "execution_count": 8,
   "metadata": {
    "colab": {},
    "colab_type": "code",
    "id": "AeqN79IHZF18"
   },
   "outputs": [],
   "source": [
    "hypothesis = x_train * W + b"
   ]
  },
  {
   "cell_type": "markdown",
   "metadata": {
    "colab_type": "text",
    "id": "HoBbDC2AZF1-"
   },
   "source": [
    "### Cost function"
   ]
  },
  {
   "cell_type": "code",
   "execution_count": 9,
   "metadata": {
    "colab": {},
    "colab_type": "code",
    "id": "ft_yZKuDZF1-"
   },
   "outputs": [],
   "source": [
    "cost = tf.reduce_mean(tf.square(hypothesis - y_train)) #MSE, Mean squared error"
   ]
  },
  {
   "cell_type": "markdown",
   "metadata": {
    "colab_type": "text",
    "id": "J5hdh9EVZF2B"
   },
   "source": [
    "### Optimizer 설정"
   ]
  },
  {
   "cell_type": "code",
   "execution_count": 10,
   "metadata": {
    "colab": {},
    "colab_type": "code",
    "id": "Es6iJhceZF2B"
   },
   "outputs": [],
   "source": [
    "optimizer = tf.train.GradientDescentOptimizer(learning_rate=0.01)\n",
    "#optimizer = tf.compat.v1.train.GradientDescentOptimizer(learning_rate=0.01)\n",
    "train = optimizer.minimize(cost)"
   ]
  },
  {
   "cell_type": "markdown",
   "metadata": {
    "colab_type": "text",
    "id": "bDH-SsySZF2D"
   },
   "source": [
    "### Launch the graph in a session & Initializes global variables in the graph"
   ]
  },
  {
   "cell_type": "code",
   "execution_count": 11,
   "metadata": {
    "colab": {},
    "colab_type": "code",
    "id": "f9ShmpM8ZF2E"
   },
   "outputs": [],
   "source": [
    "sess = tf.Session()\n",
    "sess.run(tf.global_variables_initializer())"
   ]
  },
  {
   "cell_type": "markdown",
   "metadata": {
    "colab_type": "text",
    "id": "aIl28NJdZF2J"
   },
   "source": [
    "### Train the model !"
   ]
  },
  {
   "cell_type": "code",
   "execution_count": 12,
   "metadata": {
    "colab": {},
    "colab_type": "code",
    "id": "75ha47fizzkp"
   },
   "outputs": [],
   "source": [
    "nb_epoch = 2000"
   ]
  },
  {
   "cell_type": "code",
   "execution_count": 13,
   "metadata": {
    "colab": {},
    "colab_type": "code",
    "id": "i1SKOW1b27uy"
   },
   "outputs": [],
   "source": [
    "vw = [] # empty list\n",
    "vb = [] \n",
    "vcost = []"
   ]
  },
  {
   "cell_type": "code",
   "execution_count": 14,
   "metadata": {
    "colab": {
     "base_uri": "https://localhost:8080/",
     "height": 390
    },
    "colab_type": "code",
    "id": "kmgrGLjxZF2J",
    "outputId": "26086b79-bf52-4e89-8050-4d835da0fde3"
   },
   "outputs": [
    {
     "name": "stdout",
     "output_type": "stream",
     "text": [
      "0 -- 17.451681 -- 6.9743333 -- -9.979667\n",
      "100 -- 10.741469 -- 5.8273573 -- -7.6769824\n",
      "200 -- 6.646544 -- 5.0139985 -- -5.828029\n",
      "300 -- 4.1161275 -- 4.3746243 -- -4.3745832\n",
      "400 -- 2.5524843 -- 3.872019 -- -3.2320423\n",
      "500 -- 1.5862471 -- 3.4769251 -- -2.3339\n",
      "600 -- 0.98917204 -- 3.1663456 -- -1.6278794\n",
      "700 -- 0.6202162 -- 2.9222016 -- -1.072883\n",
      "800 -- 0.3922235 -- 2.730282 -- -0.6366049\n",
      "900 -- 0.25133798 -- 2.5794156 -- -0.29365066\n",
      "1000 -- 0.16427936 -- 2.4608212 -- -0.024057537\n",
      "1100 -- 0.110482454 -- 2.3675952 -- 0.18786731\n",
      "1200 -- 0.07723926 -- 2.294311 -- 0.3544593\n",
      "1300 -- 0.056697045 -- 2.2367034 -- 0.4854154\n",
      "1400 -- 0.04400317 -- 2.1914184 -- 0.588359\n",
      "1500 -- 0.03615908 -- 2.1558201 -- 0.6692825\n",
      "1600 -- 0.03131194 -- 2.1278367 -- 0.73289526\n",
      "1700 -- 0.028316705 -- 2.1058393 -- 0.7829006\n",
      "1800 -- 0.026465824 -- 2.0885472 -- 0.8222094\n",
      "1900 -- 0.025322085 -- 2.0749538 -- 0.85311013\n",
      "2000 -- 0.02461528 -- 2.0642674 -- 0.87740105\n"
     ]
    }
   ],
   "source": [
    "for step in range(nb_epoch+1):\n",
    "    sess.run(train)\n",
    "\n",
    "    w1 = sess.run(W)[0] # slope\n",
    "    b1 = sess.run(b)[0] # bias\n",
    "    cost1 = sess.run(cost)\n",
    "    \n",
    "    vw.append(w1)\n",
    "    vb.append(b1)\n",
    "    vcost.append(cost1)\n",
    "    \n",
    "    if step % 100 == 0: # 100번마다 결과 출력해보기 (안해도 되지만..)\n",
    "        print(step, '--', cost1, '--',  w1, '--', b1)"
   ]
  },
  {
   "cell_type": "code",
   "execution_count": 15,
   "metadata": {
    "colab": {
     "base_uri": "https://localhost:8080/",
     "height": 52
    },
    "colab_type": "code",
    "id": "ynzIw-NTZF2L",
    "outputId": "d81758a7-256d-4227-9db7-8abf487ae3fa"
   },
   "outputs": [
    {
     "name": "stdout",
     "output_type": "stream",
     "text": [
      "2.0642674 0.87740105\n",
      "y=2.06x + 0.877\n"
     ]
    }
   ],
   "source": [
    "w1 = sess.run(W)[0] # slope\n",
    "b1 = sess.run(b)[0] # bias\n",
    "str1 = 'y={:.3}x + {:.3}'.format(w1, b1)\n",
    "print(w1, b1)\n",
    "print(str1)"
   ]
  },
  {
   "cell_type": "code",
   "execution_count": 21,
   "metadata": {
    "colab": {
     "base_uri": "https://localhost:8080/",
     "height": 298
    },
    "colab_type": "code",
    "id": "L3yE4HIuZF2N",
    "outputId": "4a75f637-9513-44ed-f9af-8f34a736cd25"
   },
   "outputs": [
    {
     "data": {
      "text/plain": [
       "Text(0.5, 1.0, 'y=2.06x + 0.877')"
      ]
     },
     "execution_count": 21,
     "metadata": {},
     "output_type": "execute_result"
    },
    {
     "data": {
      "image/png": "[encoded data removed]",
      "text/plain": [
       "<Figure size 432x288 with 1 Axes>"
      ]
     },
     "metadata": {
      "needs_background": "light"
     },
     "output_type": "display_data"
    }
   ],
   "source": [
    "#plt.figure(dpi=150)\n",
    "plt.plot(x_train, y_train,'o')\n",
    "\n",
    "x1 = np.min(x_train)-1, np.max(x_train)+1\n",
    "y1 = np.dot(w1,x1) + b1\n",
    "plt.plot(x1, y1)\n",
    "plt.grid()\n",
    "plt.xlabel('epoch')\n",
    "plt.title(str1)"
   ]
  },
  {
   "cell_type": "code",
   "execution_count": 23,
   "metadata": {
    "colab": {
     "base_uri": "https://localhost:8080/",
     "height": 282
    },
    "colab_type": "code",
    "id": "w-u3Uz7c3xa0",
    "outputId": "b5bd2b1a-4e9b-4842-a10c-0d39342f2761"
   },
   "outputs": [
    {
     "data": {
      "text/plain": [
       "Text(0.5, 1.0, 'history of w')"
      ]
     },
     "execution_count": 23,
     "metadata": {},
     "output_type": "execute_result"
    },
    {
     "data": {
      "image/png": "[encoded data removed]",
      "text/plain": [
       "<Figure size 432x288 with 1 Axes>"
      ]
     },
     "metadata": {
      "needs_background": "light"
     },
     "output_type": "display_data"
    }
   ],
   "source": [
    "plt.plot(vw)\n",
    "plt.xlabel('epoch')\n",
    "plt.ylabel('w')\n",
    "plt.title('history of w')"
   ]
  },
  {
   "cell_type": "code",
   "execution_count": 22,
   "metadata": {
    "colab": {
     "base_uri": "https://localhost:8080/",
     "height": 264
    },
    "colab_type": "code",
    "id": "tTH9QonI3tsl",
    "outputId": "d5be8c9f-6223-49ce-d346-632d73fa57da"
   },
   "outputs": [
    {
     "data": {
      "text/plain": [
       "Text(0.5, 1.0, 'history of b')"
      ]
     },
     "execution_count": 22,
     "metadata": {},
     "output_type": "execute_result"
    },
    {
     "data": {
      "image/png": "[encoded data removed]",
      "text/plain": [
       "<Figure size 432x288 with 1 Axes>"
      ]
     },
     "metadata": {
      "needs_background": "light"
     },
     "output_type": "display_data"
    }
   ],
   "source": [
    "plt.plot(vb)\n",
    "plt.grid()\n",
    "plt.xlabel('epoch')\n",
    "plt.ylabel('b, bias')\n",
    "plt.title('history of b')"
   ]
  },
  {
   "cell_type": "code",
   "execution_count": 19,
   "metadata": {
    "colab": {
     "base_uri": "https://localhost:8080/",
     "height": 282
    },
    "colab_type": "code",
    "id": "OcO-F0xF33fp",
    "outputId": "1f9b6bcc-ab3c-4d21-937a-d113ea366a15"
   },
   "outputs": [
    {
     "data": {
      "text/plain": [
       "Text(0, 0.5, 'loss (MSE)')"
      ]
     },
     "execution_count": 19,
     "metadata": {},
     "output_type": "execute_result"
    },
    {
     "data": {
      "image/png": "[encoded data removed]",
      "text/plain": [
       "<Figure size 432x288 with 1 Axes>"
      ]
     },
     "metadata": {
      "needs_background": "light"
     },
     "output_type": "display_data"
    }
   ],
   "source": [
    "plt.plot(vcost)\n",
    "plt.xlabel('epoch')\n",
    "plt.ylabel('loss (MSE)')"
   ]
  }
 ],
 "metadata": {
  "colab": {
   "collapsed_sections": [],
   "name": "hello_linear_regression.ipynb",
   "provenance": []
  },
  "kernelspec": {
   "display_name": "Python 3",
   "language": "python",
   "name": "python3"
  },
  "language_info": {
   "codemirror_mode": {
    "name": "ipython",
    "version": 3
   },
   "file_extension": ".py",
   "mimetype": "text/x-python",
   "name": "python",
   "nbconvert_exporter": "python",
   "pygments_lexer": "ipython3",
   "version": "3.6.8"
  }
 },
 "nbformat": 4,
 "nbformat_minor": 1
}

{
 "cells": [
  {
   "cell_type": "markdown",
   "metadata": {
    "colab_type": "text",
    "id": "rT5cusszZF1o"
   },
   "source": [
    "# Linear Regression with Tensorflow"
   ]
  },
  {
   "cell_type": "code",
   "execution_count": 1,
   "metadata": {
    "colab": {
     "base_uri": "https://localhost:8080/",
     "height": 90
    },
    "colab_type": "code",
    "id": "ID6bcOJXZF1p",
    "outputId": "dbcea255-0b65-4259-ab0a-4ff47516fa82"
   },
   "outputs": [
    {
     "name": "stdout",
     "output_type": "stream",
     "text": [
      "INFO:tensorflow:Enabling eager execution\n",
      "INFO:tensorflow:Enabling v2 tensorshape\n",
      "INFO:tensorflow:Enabling resource variables\n",
      "INFO:tensorflow:Enabling tensor equality\n",
      "INFO:tensorflow:Enabling control flow v2\n",
      "INFO:tensorflow:Disabling eager execution\n",
      "INFO:tensorflow:Disabling v2 tensorshape\n",
      "WARNING:tensorflow:From /home/seung/.venv/tf200py368/lib/python3.6/site-packages/tensorflow/python/compat/v2_compat.py:96: disable_resource_variables (from tensorflow.python.ops.variable_scope) is deprecated and will be removed in a future version.\n",
      "Instructions for updating:\n",
      "non-resource variables are not supported in the long term\n",
      "INFO:tensorflow:Disabling resource variables\n",
      "INFO:tensorflow:Disabling tensor equality\n",
      "INFO:tensorflow:Disabling control flow v2\n"
     ]
    }
   ],
   "source": [
    "#import tensorflow as tf\n",
    "import tensorflow.compat.v1 as tf\n",
    "tf.disable_v2_behavior()"
   ]
  },
  {
   "cell_type": "code",
   "execution_count": 2,
   "metadata": {
    "colab": {},
    "colab_type": "code",
    "id": "c_izUdvUaDTy"
   },
   "outputs": [],
   "source": [
    "import numpy as np\n",
    "import matplotlib.pyplot as plt"
   ]
  },
  {
   "cell_type": "markdown",
   "metadata": {},
   "source": [
    "### Data preparation"
   ]
  },
  {
   "cell_type": "code",
   "execution_count": 3,
   "metadata": {
    "colab": {},
    "colab_type": "code",
    "id": "lTLcPkZOZF1t"
   },
   "outputs": [],
   "source": [
    "x_train = [1, 2, 3]"
   ]
  },
  {
   "cell_type": "code",
   "execution_count": 4,
   "metadata": {
    "colab": {},
    "colab_type": "code",
    "id": "jmFiYbMWZF1w"
   },
   "outputs": [],
   "source": [
    "y_train = [2+0.1 +1, 4 -0.1+1, 6+0.5+1] # adjust the noises !"
   ]
  },
  {
   "cell_type": "code",
   "execution_count": 5,
   "metadata": {
    "colab": {
     "base_uri": "https://localhost:8080/",
     "height": 296
    },
    "colab_type": "code",
    "id": "YwIYr9cQZF1z",
    "outputId": "9f4b238e-ec69-4e21-94ae-a73463ea4d1b"
   },
   "outputs": [
    {
     "data": {
      "text/plain": [
       "Text(0, 0.5, 'Y')"
      ]
     },
     "execution_count": 5,
     "metadata": {},
     "output_type": "execute_result"
    },
    {
     "data": {
      "image/png": "[encoded data removed]",
      "text/plain": [
       "<Figure size 432x288 with 1 Axes>"
      ]
     },
     "metadata": {
      "needs_background": "light"
     },
     "output_type": "display_data"
    }
   ],
   "source": [
    "plt.plot(x_train, y_train,'.-')\n",
    "plt.xlabel('X')\n",
    "plt.ylabel('Y')"
   ]
  },
  {
   "cell_type": "markdown",
   "metadata": {
    "colab_type": "text",
    "id": "0A2Hw4nxxGon"
   },
   "source": [
    "$$ y = 2x +1$$\n",
    "\n",
    "$$ y = wx + b $$"
   ]
  },
  {
   "cell_type": "markdown",
   "metadata": {
    "colab_type": "text",
    "id": "1VDfl9W7ZF12"
   },
   "source": [
    "### Initialization  (초기화)"
   ]
  },
  {
   "cell_type": "code",
   "execution_count": 6,
   "metadata": {
    "colab": {},
    "colab_type": "code",
    "id": "DlPpSEXCZF12"
   },
   "outputs": [],
   "source": [
    "w0 = 7; #바꾸어보세요\n",
    "b0 = -10; #바꾸어보세요"
   ]
  },
  {
   "cell_type": "code",
   "execution_count": 7,
   "metadata": {
    "colab": {},
    "colab_type": "code",
    "id": "DVGVY8dgZF15"
   },
   "outputs": [],
   "source": [
    "W = tf.Variable(w0*tf.ones([1]), name='weight')\n",
    "b = tf.Variable(b0*tf.ones([1]), name='bias')"
   ]
  },
  {
   "cell_type": "markdown",
   "metadata": {
    "colab_type": "text",
    "id": "yQg-zNtKZF17"
   },
   "source": [
    "### Our hypothesis XW+b"
   ]
  },
  {
   "cell_type": "code",
   "execution_count": 8,
   "metadata": {
    "colab": {},
    "colab_type": "code",
    "id": "AeqN79IHZF18"
   },
   "outputs": [],
   "source": [
    "hypothesis = x_train * W + b"
   ]
  },
  {
   "cell_type": "markdown",
   "metadata": {
    "colab_type": "text",
    "id": "HoBbDC2AZF1-"
   },
   "source": [
    "### Cost function"
   ]
  },
  {
   "cell_type": "code",
   "execution_count": 9,
   "metadata": {
    "colab": {},
    "colab_type": "code",
    "id": "ft_yZKuDZF1-"
   },
   "outputs": [],
   "source": [
    "cost = tf.reduce_mean(tf.square(hypothesis - y_train)) #MSE, Mean squared error"
   ]
  },
  {
   "cell_type": "markdown",
   "metadata": {
    "colab_type": "text",
    "id": "J5hdh9EVZF2B"
   },
   "source": [
    "### Optimizer 설정"
   ]
  },
  {
   "cell_type": "code",
   "execution_count": 10,
   "metadata": {
    "colab": {},
    "colab_type": "code",
    "id": "Es6iJhceZF2B"
   },
   "outputs": [],
   "source": [
    "optimizer = tf.train.GradientDescentOptimizer(learning_rate=0.01)\n",
    "#optimizer = tf.compat.v1.train.GradientDescentOptimizer(learning_rate=0.01)\n",
    "train = optimizer.minimize(cost)"
   ]
  },
  {
   "cell_type": "markdown",
   "metadata": {
    "colab_type": "text",
    "id": "bDH-SsySZF2D"
   },
   "source": [
    "### Launch the graph in a session & Initializes global variables in the graph"
   ]
  },
  {
   "cell_type": "code",
   "execution_count": 11,
   "metadata": {
    "colab": {},
    "colab_type": "code",
    "id": "f9ShmpM8ZF2E"
   },
   "outputs": [],
   "source": [
    "sess = tf.Session()\n",
    "sess.run(tf.global_variables_initializer())"
   ]
  },
  {
   "cell_type": "markdown",
   "metadata": {
    "colab_type": "text",
    "id": "aIl28NJdZF2J"
   },
   "source": [
    "### Train the model !"
   ]
  },
  {
   "cell_type": "code",
   "execution_count": 12,
   "metadata": {
    "colab": {},
    "colab_type": "code",
    "id": "75ha47fizzkp"
   },
   "outputs": [],
   "source": [
    "nb_epoch = 2000"
   ]
  },
  {
   "cell_type": "code",
   "execution_count": 13,
   "metadata": {
    "colab": {},
    "colab_type": "code",
    "id": "i1SKOW1b27uy"
   },
   "outputs": [],
   "source": [
    "vw = [] # empty list\n",
    "vb = [] \n",
    "vcost = []"
   ]
  },
  {
   "cell_type": "code",
   "execution_count": 14,
   "metadata": {
    "colab": {
     "base_uri": "https://localhost:8080/",
     "height": 390
    },
    "colab_type": "code",
    "id": "kmgrGLjxZF2J",
    "outputId": "26086b79-bf52-4e89-8050-4d835da0fde3"
   },
   "outputs": [
    {
     "name": "stdout",
     "output_type": "stream",
     "text": [
      "0 -- 16.672506 -- 6.9826665 -- -9.976666\n",
      "100 -- 10.306961 -- 5.9222956 -- -7.694986\n",
      "200 -- 6.38266 -- 5.126064 -- -5.8849645\n",
      "300 -- 3.9576824 -- 4.500153 -- -4.462122\n",
      "400 -- 2.4591908 -- 4.0081296 -- -3.343637\n",
      "500 -- 1.5332144 -- 3.6213546 -- -2.4644065\n",
      "600 -- 0.9610176 -- 3.3173141 -- -1.7732509\n",
      "700 -- 0.6074348 -- 3.0783107 -- -1.22994\n",
      "800 -- 0.38894212 -- 2.8904321 -- -0.80284804\n",
      "900 -- 0.253927 -- 2.7427425 -- -0.46711496\n",
      "1000 -- 0.17049594 -- 2.6266453 -- -0.20319837\n",
      "1100 -- 0.11894048 -- 2.535382 -- 0.0042642145\n",
      "1200 -- 0.08708239 -- 2.463641 -- 0.16734867\n",
      "1300 -- 0.06739604 -- 2.4072459 -- 0.29554793\n",
      "1400 -- 0.05523098 -- 2.3629138 -- 0.39632484\n",
      "1500 -- 0.047713723 -- 2.3280652 -- 0.4755447\n",
      "1600 -- 0.04306854 -- 2.3006709 -- 0.53781843\n",
      "1700 -- 0.04019813 -- 2.2791362 -- 0.5867708\n",
      "1800 -- 0.03842439 -- 2.2622087 -- 0.62525207\n",
      "1900 -- 0.037328307 -- 2.2489018 -- 0.6555018\n",
      "2000 -- 0.036651015 -- 2.2384412 -- 0.6792808\n"
     ]
    }
   ],
   "source": [
    "for step in range(nb_epoch+1):\n",
    "    sess.run(train)\n",
    "\n",
    "    w1 = sess.run(W)[0] # slope\n",
    "    b1 = sess.run(b)[0] # bias\n",
    "    cost1 = sess.run(cost)\n",
    "    \n",
    "    vw.append(w1)\n",
    "    vb.append(b1)\n",
    "    vcost.append(cost1)\n",
    "    \n",
    "    if step % 100 == 0: # 100번마다 결과 출력해보기 (안해도 되지만..)\n",
    "        print(step, '--', cost1, '--',  w1, '--', b1)"
   ]
  },
  {
   "cell_type": "code",
   "execution_count": 15,
   "metadata": {
    "colab": {
     "base_uri": "https://localhost:8080/",
     "height": 52
    },
    "colab_type": "code",
    "id": "ynzIw-NTZF2L",
    "outputId": "d81758a7-256d-4227-9db7-8abf487ae3fa"
   },
   "outputs": [
    {
     "name": "stdout",
     "output_type": "stream",
     "text": [
      "2.2384412 0.6792808\n",
      "y=2.24x + 0.679\n"
     ]
    }
   ],
   "source": [
    "w1 = sess.run(W)[0] # slope\n",
    "b1 = sess.run(b)[0] # bias\n",
    "str1 = 'y={:.3}x + {:.3}'.format(w1, b1)\n",
    "print(w1, b1)\n",
    "print(str1)"
   ]
  },
  {
   "cell_type": "code",
   "execution_count": 16,
   "metadata": {
    "colab": {
     "base_uri": "https://localhost:8080/",
     "height": 298
    },
    "colab_type": "code",
    "id": "L3yE4HIuZF2N",
    "outputId": "4a75f637-9513-44ed-f9af-8f34a736cd25"
   },
   "outputs": [
    {
     "data": {
      "text/plain": [
       "Text(0.5, 1.0, 'y=2.24x + 0.679')"
      ]
     },
     "execution_count": 16,
     "metadata": {},
     "output_type": "execute_result"
    },
    {
     "data": {
      "image/png": "[encoded data removed]",
      "text/plain": [
       "<Figure size 432x288 with 1 Axes>"
      ]
     },
     "metadata": {
      "needs_background": "light"
     },
     "output_type": "display_data"
    }
   ],
   "source": [
    "#plt.figure(dpi=150)\n",
    "plt.plot(x_train, y_train,'o')\n",
    "\n",
    "x1 = np.min(x_train)-1, np.max(x_train)+1\n",
    "y1 = np.dot(w1,x1) + b1\n",
    "plt.plot(x1, y1)\n",
    "plt.grid()\n",
    "plt.xlabel('epoch')\n",
    "plt.title(str1)"
   ]
  },
  {
   "cell_type": "code",
   "execution_count": 17,
   "metadata": {
    "colab": {
     "base_uri": "https://localhost:8080/",
     "height": 282
    },
    "colab_type": "code",
    "id": "w-u3Uz7c3xa0",
    "outputId": "b5bd2b1a-4e9b-4842-a10c-0d39342f2761"
   },
   "outputs": [
    {
     "data": {
      "text/plain": [
       "Text(0.5, 1.0, 'history of w')"
      ]
     },
     "execution_count": 17,
     "metadata": {},
     "output_type": "execute_result"
    },
    {
     "data": {
      "image/png": "[encoded data removed]",
      "text/plain": [
       "<Figure size 432x288 with 1 Axes>"
      ]
     },
     "metadata": {
      "needs_background": "light"
     },
     "output_type": "display_data"
    }
   ],
   "source": [
    "plt.plot(vw)\n",
    "plt.xlabel('epoch')\n",
    "plt.ylabel('w')\n",
    "plt.title('history of w')"
   ]
  },
  {
   "cell_type": "code",
   "execution_count": 18,
   "metadata": {
    "colab": {
     "base_uri": "https://localhost:8080/",
     "height": 264
    },
    "colab_type": "code",
    "id": "tTH9QonI3tsl",
    "outputId": "d5be8c9f-6223-49ce-d346-632d73fa57da"
   },
   "outputs": [
    {
     "data": {
      "text/plain": [
       "Text(0.5, 1.0, 'history of b')"
      ]
     },
     "execution_count": 18,
     "metadata": {},
     "output_type": "execute_result"
    },
    {
     "data": {
      "image/png": "[encoded data removed]",
      "text/plain": [
       "<Figure size 432x288 with 1 Axes>"
      ]
     },
     "metadata": {
      "needs_background": "light"
     },
     "output_type": "display_data"
    }
   ],
   "source": [
    "plt.plot(vb)\n",
    "plt.grid()\n",
    "plt.xlabel('epoch')\n",
    "plt.ylabel('b, bias')\n",
    "plt.title('history of b')"
   ]
  },
  {
   "cell_type": "code",
   "execution_count": 19,
   "metadata": {
    "colab": {
     "base_uri": "https://localhost:8080/",
     "height": 282
    },
    "colab_type": "code",
    "id": "OcO-F0xF33fp",
    "outputId": "1f9b6bcc-ab3c-4d21-937a-d113ea366a15"
   },
   "outputs": [
    {
     "data": {
      "text/plain": [
       "Text(0, 0.5, 'loss (MSE)')"
      ]
     },
     "execution_count": 19,
     "metadata": {},
     "output_type": "execute_result"
    },
    {
     "data": {
      "image/png": "[encoded data removed]",
      "text/plain": [
       "<Figure size 432x288 with 1 Axes>"
      ]
     },
     "metadata": {
      "needs_background": "light"
     },
     "output_type": "display_data"
    }
   ],
   "source": [
    "plt.plot(vcost)\n",
    "plt.xlabel('epoch')\n",
    "plt.ylabel('loss (MSE)')"
   ]
  }
 ],
 "metadata": {
  "colab": {
   "collapsed_sections": [],
   "name": "hello_linear_regression.ipynb",
   "provenance": []
  },
  "kernelspec": {
   "display_name": "Python 3",
   "language": "python",
   "name": "python3"
  },
  "language_info": {
   "codemirror_mode": {
    "name": "ipython",
    "version": 3
   },
   "file_extension": ".py",
   "mimetype": "text/x-python",
   "name": "python",
   "nbconvert_exporter": "python",
   "pygments_lexer": "ipython3",
   "version": "3.6.8"
  }
 },
 "nbformat": 4,
 "nbformat_minor": 1
}

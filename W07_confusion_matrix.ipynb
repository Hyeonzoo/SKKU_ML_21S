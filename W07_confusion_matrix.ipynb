{
 "cells": [
  {
   "cell_type": "code",
   "execution_count": 1,
   "metadata": {},
   "outputs": [],
   "source": [
    "import pandas as pd\n",
    "import numpy as np\n",
    "import matplotlib.pyplot as plt"
   ]
  },
  {
   "cell_type": "code",
   "execution_count": 2,
   "metadata": {},
   "outputs": [],
   "source": [
    "y_actual =    [1, 0, 0, 1, 0, 1, 0, 0, 1, 0, 1, 0]\n",
    "y_predicted = [1, 1, 0, 1, 0, 1, 1, 0, 1, 0, 0, 0]"
   ]
  },
  {
   "cell_type": "code",
   "execution_count": 3,
   "metadata": {},
   "outputs": [],
   "source": [
    "y_actual = np.array(y_actual)\n",
    "y_predicted = np.array(y_predicted)"
   ]
  },
  {
   "cell_type": "code",
   "execution_count": 4,
   "metadata": {},
   "outputs": [
    {
     "name": "stdout",
     "output_type": "stream",
     "text": [
      "col_0  0  1\n",
      "row_0      \n",
      "0      5  2\n",
      "1      1  4\n"
     ]
    }
   ],
   "source": [
    "conf_matrix = pd.crosstab(y_actual, y_predicted)\n",
    "print(conf_matrix)"
   ]
  },
  {
   "cell_type": "code",
   "execution_count": 5,
   "metadata": {},
   "outputs": [
    {
     "data": {
      "text/plain": [
       "array([[5, 2],\n",
       "       [1, 4]])"
      ]
     },
     "execution_count": 5,
     "metadata": {},
     "output_type": "execute_result"
    }
   ],
   "source": [
    "conf_matrix.values "
   ]
  },
  {
   "cell_type": "code",
   "execution_count": 6,
   "metadata": {},
   "outputs": [],
   "source": [
    "def plot_confusion_matrix(actual, predicted, classes, title='Confusion Matrix', normalize=False, figsize=(8, 8),\n",
    "                           dpi=72, cmap=plt.cm.binary):\n",
    "    import pandas as pd\n",
    "    \n",
    "    if not normalize:\n",
    "        conf_matrix = pd.crosstab(actual, predicted)  # confusion_matrix(actual, predicted)\n",
    "    else:\n",
    "        conf_matrix = pd.crosstab(actual, predicted).apply(lambda r: r / r.sum(), axis=1)\n",
    "        \n",
    "    #classes = ['c0', 'c1']\n",
    "    #classes = ['c{}'.format(i) for i in range(n_classes)]\n",
    "    fig = plt.figure(figsize=figsize, dpi=dpi)\n",
    "    plt.imshow(conf_matrix, interpolation='nearest', cmap=cmap)  # , cmap=plt.cm.Greens # plt.cm.viridis\n",
    "    plt.title(title, size=12)\n",
    "    plt.colorbar(fraction=0.041, pad=0.05)\n",
    "    tick_marks = np.arange(len(classes))\n",
    "    plt.xticks(tick_marks, classes, rotation=90)\n",
    "    plt.yticks(tick_marks, classes)\n",
    "    \n",
    "    fmt = '.2f' if normalize else 'd'\n",
    "    thresh = 0.5\n",
    "    for i in range(conf_matrix.shape[0]):\n",
    "        for j in range(conf_matrix.shape[1]):\n",
    "            plt.text(j, i, format(conf_matrix[i][j], fmt), \n",
    "                     ha=\"center\", va=\"center\", color=\"white\" if conf_matrix[i][j] > thresh else \"black\")  #horizontalalignment\n",
    "    \n",
    "    '''\n",
    "    thresh = conf_matrix.max() / 2.\n",
    "    for i, j in itertools.product(range(conf_matrix.shape[0]), range(conf_matrix.shape[1])):\n",
    "        plt.text(j, i, format(conf_matrix[i, j], 'd'),\n",
    "        horizontalalignment=\"center\", color=\"white\" if conf_matrix[i, j] > thresh else \"black\")\n",
    "    '''\n",
    "    plt.ylabel('Actual')\n",
    "    plt.xlabel('Predicted')\n",
    "    plt.grid(False)\n",
    "    plt.tight_layout()\n",
    "    return fig"
   ]
  },
  {
   "cell_type": "code",
   "execution_count": 7,
   "metadata": {},
   "outputs": [],
   "source": [
    "class_name = ['c0', 'c1']\n",
    "#class_name = ['c{}'.format(i) for i in range(n_classes)]"
   ]
  },
  {
   "cell_type": "code",
   "execution_count": 8,
   "metadata": {},
   "outputs": [
    {
     "data": {
      "image/png": "[encoded data removed]",
      "text/plain": [
       "<Figure size 360x360 with 2 Axes>"
      ]
     },
     "metadata": {
      "needs_background": "light"
     },
     "output_type": "display_data"
    }
   ],
   "source": [
    "fig = plot_confusion_matrix(y_actual, y_predicted,classes=class_name, figsize=(5,5), cmap = plt.cm.binary)"
   ]
  },
  {
   "cell_type": "code",
   "execution_count": 9,
   "metadata": {},
   "outputs": [
    {
     "data": {
      "image/png": "[encoded data removed]",
      "text/plain": [
       "<Figure size 360x360 with 2 Axes>"
      ]
     },
     "metadata": {
      "needs_background": "light"
     },
     "output_type": "display_data"
    }
   ],
   "source": [
    "fig = plot_confusion_matrix(y_actual, y_predicted, classes=class_name, figsize=(5,5), cmap = plt.cm.binary, normalize=True)"
   ]
  }
 ],
 "metadata": {
  "kernelspec": {
   "display_name": "Python 3",
   "language": "python",
   "name": "python3"
  },
  "language_info": {
   "codemirror_mode": {
    "name": "ipython",
    "version": 3
   },
   "file_extension": ".py",
   "mimetype": "text/x-python",
   "name": "python",
   "nbconvert_exporter": "python",
   "pygments_lexer": "ipython3",
   "version": "3.6.8"
  }
 },
 "nbformat": 4,
 "nbformat_minor": 2
}
